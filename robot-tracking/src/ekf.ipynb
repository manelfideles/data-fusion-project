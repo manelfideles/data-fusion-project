{
 "cells": [
  {
   "cell_type": "code",
   "execution_count": 1,
   "metadata": {},
   "outputs": [],
   "source": [
    "import numpy as np\n",
    "from math import cos, sin\n",
    "import matplotlib.pyplot as plt\n",
    "import imageio"
   ]
  },
  {
   "cell_type": "code",
   "execution_count": 2,
   "metadata": {},
   "outputs": [],
   "source": [
    "# vetor de estados do robot no instante t: Xt = [xt, yt, tetat, vt]\n",
    "# xt e yt -> posição x-y 2d do robot\n",
    "# tetat -> orientação\n",
    "# vt -> velocidade\n",
    "\n",
    "# vetor de entrada no instante t: ut = [vt, omegat]\n",
    "# omegat -> yaw rate (taxa de movimento angular sobre o eixo vertical), medida pelo giroscópio\n",
    "\n",
    "# vetor de observação no instante t: zt = [xt, yt]\n",
    "\n",
    "# modelo dinâmico: x[t+1] = F * xt + B * ut"
   ]
  },
  {
   "cell_type": "code",
   "execution_count": 3,
   "metadata": {},
   "outputs": [],
   "source": [
    "# Globals\n",
    "# Estimation params for EKF\n",
    "Q = np.diag([0.1, 0.1, np.deg2rad(1.0), 1.0]) ** 2\n",
    "R = np.diag([1.0, 1.0]) ** 2\n",
    "\n",
    "# Sim params\n",
    "gps_noise = np.diag([0.5, 0.5]) ** 2\n",
    "input_noise = np.diag([1.0, np.deg2rad(30.0)]) ** 2\n",
    "\n",
    "dt = 0.1\n",
    "sim_time = 50.0"
   ]
  },
  {
   "cell_type": "code",
   "execution_count": 4,
   "metadata": {},
   "outputs": [],
   "source": [
    "def u(v=1.0, yaw=0.1):\n",
    "    \"\"\"\n",
    "    Devolve o vetor de entrada\n",
    "    num dado instante.\n",
    "    \"\"\"\n",
    "    return np.array([[v, yaw]]).T"
   ]
  },
  {
   "cell_type": "code",
   "execution_count": 5,
   "metadata": {},
   "outputs": [],
   "source": [
    "def mm(x, u, dt=0.1):\n",
    "    \"\"\"\n",
    "    Devolve o valor de x[t+1]\n",
    "    de acordo com o modelo dinâmico\n",
    "    definido na ficha 4:\n",
    "    xt = F * xt + B * ut\n",
    "    \"\"\"\n",
    "\n",
    "    F = np.identity(4, dtype=float)\n",
    "    F[3, 3] = 0\n",
    "    B = np.array([[dt * cos(x[2, 0]), 0],\n",
    "                  [dt * sin(x[2, 0]), 0],\n",
    "                  [0.0, dt],\n",
    "                  [1.0, 0.0]])\n",
    "\n",
    "    return F.dot(x) + B.dot(u)"
   ]
  },
  {
   "cell_type": "code",
   "execution_count": 6,
   "metadata": {},
   "outputs": [],
   "source": [
    "def observation(x, xdr, u):\n",
    "    x = mm(x, u)\n",
    "\n",
    "    # add noise to gps x-y\n",
    "    zx = x[0, 0] + np.random.randn() * gps_noise[0, 0]\n",
    "    zy = x[1, 0] + np.random.randn() * gps_noise[1, 1]\n",
    "    z = np.array([[zx, zy]])\n",
    "\n",
    "    # add noise to input\n",
    "    ud1 = u[0, 0] + np.random.randn() * input_noise[0, 0]\n",
    "    ud2 = u[1, 0] + np.random.randn() * input_noise[1, 1]\n",
    "    ud = np.array([[ud1, ud2]]).T\n",
    "\n",
    "    xdr = mm(xdr, ud)\n",
    "\n",
    "    return x, z, xdr, ud"
   ]
  },
  {
   "cell_type": "code",
   "execution_count": 7,
   "metadata": {},
   "outputs": [],
   "source": [
    "def jF(x, u):\n",
    "    \"\"\"\n",
    "    Devolve a matriz jacobiana do modelo\n",
    "    dinâmico da ficha 4.\n",
    "    \"\"\"\n",
    "    yaw = x[2, 0]\n",
    "    v = u[0, 0]\n",
    "    return np.array([\n",
    "        [1.0, 0.0, -dt * v * np.sin(yaw), dt * np.cos(yaw)],\n",
    "        [0.0, 1.0, dt * v * np.cos(yaw), dt * np.sin(yaw)],\n",
    "        [0.0, 0.0, 1.0, 0.0],\n",
    "        [0.0, 0.0, 0.0, 1.0]])"
   ]
  },
  {
   "cell_type": "code",
   "execution_count": 8,
   "metadata": {},
   "outputs": [],
   "source": [
    "def jH():\n",
    "    \"\"\"\n",
    "    Devolve a matriz jacobiana do modelo de\n",
    "    observação da ficha 4.\n",
    "    \"\"\"\n",
    "    return np.identity(4)[0:2]"
   ]
  },
  {
   "cell_type": "code",
   "execution_count": 9,
   "metadata": {},
   "outputs": [],
   "source": [
    "def om(x):\n",
    "    \"\"\"\n",
    "    Devolve o modelo de observação\n",
    "    de acordo com o enunciado da ficha 4:\n",
    "    zt = H * xt\n",
    "    \"\"\"\n",
    "    return jH().dot(x)"
   ]
  },
  {
   "cell_type": "code",
   "execution_count": 10,
   "metadata": {},
   "outputs": [],
   "source": [
    "def ekf(x, p, z, u):\n",
    "    \"\"\"\n",
    "    Estimação da localização\n",
    "    do robot através do\n",
    "    Extended Kalman Filter\n",
    "    \"\"\"\n",
    "    # Predict\n",
    "    xpred = mm(x, u)\n",
    "    jf = jF(xpred, u)\n",
    "    ppred = jf.dot(p).dot(jf.T) + Q\n",
    "\n",
    "    # Update\n",
    "    jh = jH()\n",
    "    zpred = om(xpred)\n",
    "    y = z.T - zpred\n",
    "    S = jh.dot(ppred).dot(jh.T) + R\n",
    "    K = ppred.dot(jh.T).dot(np.linalg.inv(S))\n",
    "    x = xpred + K.dot(y)\n",
    "    p = (np.eye(len(x)) - K.dot(jh)).dot(ppred)\n",
    "\n",
    "    return x, p"
   ]
  },
  {
   "cell_type": "code",
   "execution_count": 11,
   "metadata": {},
   "outputs": [],
   "source": [
    "def save(hxpred, xpred, hxtrue, xtrue, hxdr, xdr, hz, z):\n",
    "    hxpred = np.hstack((hxpred, xpred))\n",
    "    hxtrue = np.hstack((hxtrue, xtrue))\n",
    "    hxdr = np.hstack((hxdr, xdr))\n",
    "    hz = np.vstack((hz, z))\n",
    "    return hxpred, hxtrue, hxdr, hz"
   ]
  },
  {
   "cell_type": "code",
   "execution_count": 12,
   "metadata": {},
   "outputs": [],
   "source": [
    "%matplotlib inline\n",
    "\n",
    "def main():\n",
    "    print('Initiated robot sim!')\n",
    "    \n",
    "    time = 0.\n",
    "\n",
    "    # vetor de estados [x, y, yaw, v]\n",
    "    xpred = np.zeros((4, 1))    \n",
    "    xtrue = np.zeros((4, 1))    \n",
    "    ppred = np.eye(4)\n",
    "\n",
    "    # dead reckoning\n",
    "    xdr = np.zeros((4, 1))\n",
    "\n",
    "    # histórico\n",
    "    hxpred = xpred\n",
    "    hxtrue = xtrue\n",
    "    hxdr = xtrue\n",
    "    hz = np.zeros((1, 2))\n",
    "\n",
    "    fig = plt.figure()\n",
    "    fig.show()\n",
    "    \n",
    "    # for gif\n",
    "    imgs = []\n",
    "\n",
    "    while time <= sim_time:\n",
    "        time += dt\n",
    "\n",
    "        xtrue, z, xdr, ud = observation(xtrue, xdr, u())\n",
    "        xpred, ppred = ekf(xpred, ppred, z, ud)\n",
    "\n",
    "        # guardar no histórico\n",
    "        hxpred, hxtrue, hxdr, hz = save(\n",
    "            hxpred, xpred, hxtrue, xtrue,\n",
    "            hxdr, xdr, hz, z\n",
    "        )\n",
    "\n",
    "        \"\"\"\n",
    "        plt.cla()\n",
    "        plt.plot(hz[:, 0], hz[:, 1], \".g\")\n",
    "        plt.plot(hxtrue[0, :].flatten(),\n",
    "                    hxtrue[1, :].flatten(), \"-b\")\n",
    "        plt.plot(hxdr[0, :].flatten(),\n",
    "                    hxdr[1, :].flatten(), \"-k\")\n",
    "        plt.plot(hxpred[0, :].flatten(),\n",
    "                    hxpred[1, :].flatten(), \"-r\")\n",
    "        plt.axis(\"equal\")\n",
    "        plt.grid(True)\n",
    "        \"\"\"\n",
    "\n",
    "        # gif\n",
    "        # filename = f'{time * 1/dt}.jpeg'\n",
    "        # imgs.append(f'./frames/{filename}')\n",
    "        # plt.savefig(filename)\n",
    "\n",
    "        plt.pause(0.001)"
   ]
  },
  {
   "cell_type": "code",
   "execution_count": 13,
   "metadata": {},
   "outputs": [],
   "source": [
    "# Descomentar linha abaixo para gerar imagens\n",
    "# main()\n",
    "# ⚠ Ver resultados no ficheiro gifs/ekf-final.gif"
   ]
  }
 ],
 "metadata": {
  "interpreter": {
   "hash": "2db524e06e9f5f4ffedc911c917cb75e12dbc923643829bf417064a77eb14d37"
  },
  "kernelspec": {
   "display_name": "Python 3.8.2 32-bit",
   "language": "python",
   "name": "python3"
  },
  "language_info": {
   "codemirror_mode": {
    "name": "ipython",
    "version": 3
   },
   "file_extension": ".py",
   "mimetype": "text/x-python",
   "name": "python",
   "nbconvert_exporter": "python",
   "pygments_lexer": "ipython3",
   "version": "3.8.2"
  },
  "orig_nbformat": 4
 },
 "nbformat": 4,
 "nbformat_minor": 2
}
