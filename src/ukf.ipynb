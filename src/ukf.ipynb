{
 "cells": [
  {
   "cell_type": "code",
   "execution_count": 1,
   "metadata": {},
   "outputs": [],
   "source": [
    "import numpy as np\n",
    "from math import sqrt, cos, sin, ceil\n",
    "import matplotlib.pyplot as plt\n",
    "from scipy.linalg import sqrtm"
   ]
  },
  {
   "cell_type": "code",
   "execution_count": 2,
   "metadata": {},
   "outputs": [],
   "source": [
    "# Globals\n",
    "\n",
    "# Estimation params for UKF\n",
    "# Predicted state covariance\n",
    "# [variance on x-axis, variance on y-axis, yaw variance, velocity variance]\n",
    "Q = np.diag([0.1, 0.1, np.deg2rad(1.0), 1.0]) ** 2\n",
    "# observation x, y position covariance\n",
    "R = np.diag([1.0, 1.0]) ** 2\n",
    "\n",
    "#  Sim params\n",
    "gps_noise = np.diag([0.5, 0.5])**2\n",
    "input_noise = np.diag([1.0, np.deg2rad(30.0)])**2\n",
    "\n",
    "dt = 0.1\n",
    "sim_time = 50.0\n",
    "\n",
    "#  UKF params\n",
    "ALPHA = 0.001\n",
    "BETA = 2\n",
    "KAPPA = 0\n",
    "\n",
    "show_animation = True"
   ]
  },
  {
   "cell_type": "code",
   "execution_count": 3,
   "metadata": {},
   "outputs": [],
   "source": [
    "def u(v=1.0, yaw=0.1):\n",
    "    \"\"\"\n",
    "    Devolve o vetor de entrada\n",
    "    num dado instante.\n",
    "    \"\"\"\n",
    "    return np.array([[v, yaw]]).T"
   ]
  },
  {
   "cell_type": "code",
   "execution_count": 4,
   "metadata": {},
   "outputs": [],
   "source": [
    "def mm(x, u, dt=0.1):\n",
    "    \"\"\"\n",
    "    Devolve o valor de x[t+1]\n",
    "    de acordo com o modelo dinâmico\n",
    "    definido na ficha 4:\n",
    "    xt = F * xt + B * ut\n",
    "    \"\"\"\n",
    "    F = np.identity(4, dtype=float)\n",
    "    F[3, 3] = 0\n",
    "    B = np.array([[dt * cos(x[2, 0]), 0],\n",
    "                  [dt * sin(x[2, 0]), 0],\n",
    "                  [0.0, dt],\n",
    "                  [1.0, 0.0]])\n",
    "\n",
    "    return F.dot(x) + B.dot(u)"
   ]
  },
  {
   "cell_type": "code",
   "execution_count": 5,
   "metadata": {},
   "outputs": [],
   "source": [
    "def jH():\n",
    "    \"\"\"\n",
    "    Devolve a matriz jacobiana do modelo de\n",
    "    observação da ficha 4.\n",
    "    \"\"\"\n",
    "    return np.identity(4)[0:2]"
   ]
  },
  {
   "cell_type": "code",
   "execution_count": 6,
   "metadata": {},
   "outputs": [],
   "source": [
    "def om(x):\n",
    "    \"\"\"\n",
    "    Devolve o modelo de observação\n",
    "    de acordo com o enunciado da ficha 4:\n",
    "    zt = H * xt\n",
    "    \"\"\"\n",
    "    return jH().dot(x)"
   ]
  },
  {
   "cell_type": "code",
   "execution_count": 7,
   "metadata": {},
   "outputs": [],
   "source": [
    "def observation(x, xdr, u):\n",
    "    x = mm(x, u)\n",
    "\n",
    "    # add noise to gps x-y\n",
    "    z = om(x) + gps_noise.dot(np.random.randn(2, 1))\n",
    "\n",
    "    # add noise to input\n",
    "    ud = u + input_noise.dot(np.random.randn(2, 1))\n",
    "\n",
    "    xdr = mm(xdr, ud)\n",
    "\n",
    "    return x, z, xdr, ud"
   ]
  },
  {
   "cell_type": "code",
   "execution_count": 8,
   "metadata": {},
   "outputs": [],
   "source": [
    "def genSigmaPoints(x, p, gamma):\n",
    "    \"\"\"\n",
    "    Gera pontos sigma usando:\n",
    "    a) x, p (ambos valores estimados\n",
    "    pelo modelo dinâmico) e gamma;\n",
    "    \"\"\"\n",
    "    x0 = x\n",
    "    return np.concatenate((\n",
    "        x0,\n",
    "        x0 - gamma * sqrtm(p),\n",
    "        x0 + gamma * sqrtm(p)\n",
    "    ), axis=1)\n",
    "    "
   ]
  },
  {
   "cell_type": "code",
   "execution_count": 9,
   "metadata": {},
   "outputs": [],
   "source": [
    "def predSigmaMotion(sigma, u):\n",
    "    \"\"\"\n",
    "    Previsão de pontos sigma através do\n",
    "    modelo dinâmico.\n",
    "    \"\"\"\n",
    "    return mm(sigma, u)"
   ]
  },
  {
   "cell_type": "code",
   "execution_count": 10,
   "metadata": {},
   "outputs": [],
   "source": [
    "def predSigmaObservation(sigma):\n",
    "    \"\"\"\n",
    "    Previsão de pontos sigma através do\n",
    "    modelo de observação.\n",
    "    \"\"\"\n",
    "    return om(sigma)"
   ]
  },
  {
   "cell_type": "code",
   "execution_count": 11,
   "metadata": {},
   "outputs": [],
   "source": [
    "def calcSigmaCov(x, sigma, wP, pi):\n",
    "    return wP * (sigma - x) @ (sigma - x).T + pi"
   ]
  },
  {
   "cell_type": "code",
   "execution_count": 12,
   "metadata": {},
   "outputs": [],
   "source": [
    "def calcPxz(sigma, x, zsigma, zb, wP):\n",
    "    return wP * (sigma - x) @ (zsigma - zb).T"
   ]
  },
  {
   "cell_type": "code",
   "execution_count": 13,
   "metadata": {},
   "outputs": [],
   "source": [
    "def ukf(x, p, z, u, wm, wP, gamma):\n",
    "    # Predict (UKF - time update)\n",
    "    # Calculate the sigma-points using xExt (xhat_k|k) and PEst (P_k|k)\n",
    "    # and gamma in def generate_sigma_points\n",
    "    sigma = genSigmaPoints(x, p, gamma)\n",
    "    \n",
    "    # Propagate the sigma-points (x^(i)_k+1|k = f(x^(i)_k|k , w^(i)_k)) \n",
    "    # using the sigma-points obtained in the previous calculus and u (ud = noisy u)\n",
    "    # in def predict_sigma_motion\n",
    "    sigma_prop = predSigmaMotion(sigma, u)\n",
    "\n",
    "    # Calculate xPred (xhat_k+1|k) using wm and the propagated sigma-points \n",
    "    xpred = wm @ sigma_prop.T\n",
    "    xpred = xpred.T\n",
    "\n",
    "    # Calculate PPred (P_k|k-1) using xPred, the propagated sigma-points\n",
    "    # wc and Q in def calc_sigma_covariance\n",
    "    ppred = calcSigmaCov(xpred, sigma_prop, wP, Q)\n",
    "\n",
    "    #  Update (UKF - measurement update)\n",
    "    # Calculate zPred (yhat_t) using xPred (xhat_k+1|k) in def observation_model\n",
    "    zpred = om(xpred)\n",
    "\n",
    "    # Calculate y = (y_t - yhat_t) using z (y_t) and zPred (yhat_t)\n",
    "    y = z - zpred\n",
    "    \n",
    "    # Calculate the sigma-points using xPred (xhat_k|k-1), PPred (P_k|k-1)\n",
    "    # and gamma in def generate_sigma_points\n",
    "    sigma = genSigmaPoints(xpred, ppred, gamma)\n",
    "    \n",
    "    # Propagate the sigma-points z_sigma (y^(i)_t = h(x^(i)_t|t-1 , e^(i)_t)) \n",
    "    # using the propagated sigma-points in def predict_sigma_observation\n",
    "    z_sigma = predSigmaObservation(sigma)\n",
    "\n",
    "    # Calculate zb (yhat_t) using wm and the sigma-points y^(i)_t \n",
    "    zb = wm @ z_sigma.T\n",
    "    zb = zb.T\n",
    "    \n",
    "    # Calculate the sigma covariance, st (P^yy_t|t-1), using zb (yhat_t),\n",
    "    # z_sigma (y^(i)_t), wc and R in def calc_sigma_covariance\n",
    "    st = calcSigmaCov(zb, z_sigma, wP, R.T)\n",
    "    \n",
    "    # Calculate Pxz (P^xy_t|t-1) using sigma (x^(i)_t|t-1), xPred (xhat_t|t-1),\n",
    "    # z_sigma (y^(i)_t), zb (yhat_t) and wc in def calc_pxz\n",
    "    pxz = calcPxz(sigma, xpred, z_sigma, zb, wP)\n",
    "    \n",
    "    # Calculate K_t using Pxz (P^xy_t|t-1) and st (P^yy_t|t-1)\n",
    "    Kt = pxz @ np.linalg.inv(st.astype(float))\n",
    "    \n",
    "    # Update xEst (Xhat_t|t) using xPred (xhat_t|t-1), K_t and y (y_t - yhat_t)\n",
    "    x = xpred + Kt @ y\n",
    "    \n",
    "    # Update PEst (P_t|t) using PPred (P_t|t-1), K_t and st (P^yy_t|t-1)\n",
    "    p = ppred - Kt @ st @ Kt.T\n",
    "\n",
    "    return x, p"
   ]
  },
  {
   "cell_type": "code",
   "execution_count": 14,
   "metadata": {},
   "outputs": [],
   "source": [
    "def initWeights(L):\n",
    "    # lambda\n",
    "    lamb = ALPHA ** 2 * (L + KAPPA) - L\n",
    "\n",
    "    # w^(0)_m and w^(0)_P\n",
    "    wm = [lamb / (lamb + L)]\n",
    "    wP = [(lamb / (lamb + L)) + (1 - ALPHA ** 2 + BETA)]\n",
    "\n",
    "    # w^(+-j)_m = w^(+-j)_P\n",
    "    const = 1.0 / (2 * (L + lamb))\n",
    "    for j in range(2 * L):\n",
    "        wm.append(const)\n",
    "        wP.append(const)\n",
    "    \n",
    "    gamma = sqrt(L + lamb)\n",
    "\n",
    "    return np.array([wm]), np.array([wP]), gamma"
   ]
  },
  {
   "cell_type": "code",
   "execution_count": 15,
   "metadata": {},
   "outputs": [],
   "source": [
    "def save(hxpred, xpred, hxdr, xdr, hxtrue, xtrue, hz, z):\n",
    "    hxpred = np.hstack((hxpred, xpred))\n",
    "    hxtrue = np.hstack((hxtrue, xtrue))\n",
    "    hxdr = np.hstack((hxdr, xdr))\n",
    "    hz = np.vstack((hz, z))\n",
    "    return hxpred, hxtrue, hxdr, hz"
   ]
  },
  {
   "cell_type": "code",
   "execution_count": 16,
   "metadata": {},
   "outputs": [],
   "source": [
    "def main():\n",
    "    print('Robot sim initiated!')\n",
    "    L = 4\n",
    "    xpred = np.zeros((L, 1))\n",
    "    xtrue = np.zeros((L, 1))\n",
    "    ppred = np.eye(L)\n",
    "    wm, wP, gamma = initWeights(L)\n",
    "    xdr = np.zeros((L, 1))\n",
    "\n",
    "    # history \n",
    "    hxpred = xpred\n",
    "    hxtrue = xtrue\n",
    "    hxdr = xdr\n",
    "    hz = np.zeros((2, 1))\n",
    "\n",
    "    time = 0.0\n",
    "\n",
    "    fig = plt.figure()\n",
    "    fig.show()\n",
    "\n",
    "    while time <= sim_time:\n",
    "        time += dt\n",
    "\n",
    "        xtrue, z, xdr, ud = observation(xtrue, xdr, u())\n",
    "        xpred, ppred = ukf(xpred, ppred, z, ud, wm, wP, gamma)\n",
    "        # hxpred, hxdr, hxtrue, hz = save(hxpred, xpred, hxdr, xdr, hxtrue, xtrue, hz, z)\n",
    "        hxpred = np.hstack((hxpred, xpred))\n",
    "        hxdr = np.hstack((hxdr, xdr))\n",
    "        hxtrue = np.hstack((hxtrue, xtrue))\n",
    "        hz = np.vstack((hz, z))\n",
    "\n",
    "    plt.cla()\n",
    "    plt.plot(hz[0, :], hz[1, :], \".g\")\n",
    "    plt.plot(hxtrue[0, :].flatten(), hxtrue[1, :].flatten(), \"-b\")\n",
    "    plt.plot(hxdr[0, :].flatten(), hxdr[1, :].flatten(), \"-k\")\n",
    "    plt.plot(hxpred[0, :].flatten(), hxpred[1, :].flatten(), \"-r\")\n",
    "    plt.axis(\"equal\")\n",
    "    plt.grid(True)\n",
    "\n",
    "        # gif\n",
    "        # filename = f'{int(ceil(time * 10))}.jpeg'\n",
    "        # plt.savefig(filename)\n",
    "        \n",
    "    plt.pause(0.001)"
   ]
  },
  {
   "cell_type": "code",
   "execution_count": 17,
   "metadata": {},
   "outputs": [
    {
     "name": "stdout",
     "output_type": "stream",
     "text": [
      "Robot sim initiated!\n"
     ]
    },
    {
     "name": "stderr",
     "output_type": "stream",
     "text": [
      "C:\\Users\\MANUEL~1\\AppData\\Local\\Temp/ipykernel_3244/4057142730.py:19: UserWarning: Matplotlib is currently using module://matplotlib_inline.backend_inline, which is a non-GUI backend, so cannot show the figure.\n",
      "  fig.show()\n"
     ]
    },
    {
     "data": {
      "image/png": "[encoded data removed]",
      "text/plain": [
       "<Figure size 432x288 with 1 Axes>"
      ]
     },
     "metadata": {
      "needs_background": "light"
     },
     "output_type": "display_data"
    }
   ],
   "source": [
    "main()"
   ]
  }
 ],
 "metadata": {
  "interpreter": {
   "hash": "2db524e06e9f5f4ffedc911c917cb75e12dbc923643829bf417064a77eb14d37"
  },
  "kernelspec": {
   "display_name": "Python 3.8.2 32-bit",
   "language": "python",
   "name": "python3"
  },
  "language_info": {
   "codemirror_mode": {
    "name": "ipython",
    "version": 3
   },
   "file_extension": ".py",
   "mimetype": "text/x-python",
   "name": "python",
   "nbconvert_exporter": "python",
   "pygments_lexer": "ipython3",
   "version": "3.8.2"
  },
  "orig_nbformat": 4
 },
 "nbformat": 4,
 "nbformat_minor": 2
}
