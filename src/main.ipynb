{
 "cells": [
  {
   "cell_type": "markdown",
   "metadata": {},
   "source": [
    "<h1> [FIAD] Projeto I </h1>"
   ]
  },
  {
   "cell_type": "markdown",
   "metadata": {},
   "source": [
    "**Manuel Tolda Martins Carrilho Fideles** <br />\n",
    "**2018282990**"
   ]
  },
  {
   "cell_type": "markdown",
   "metadata": {},
   "source": [
    "Este projeto pretende aplicar métodos de fusão de dados para a localização de um robot, considerando\n",
    "que é representado por um modelo não-linear e que possui um sensor de velocidade, um giroscópio \n",
    "e um sensor de GNSS (*Global Navigation Satellite System*)."
   ]
  },
  {
   "cell_type": "markdown",
   "metadata": {},
   "source": [
    "São analisados e comparados 3 filtros diferentes:\n",
    "    <ul>\n",
    "        <li> Extended Kalman Filter\n",
    "        <li> Unscented Kalman Filter\n",
    "        <li> Particle Filter\n",
    "    </ul>"
   ]
  },
  {
   "cell_type": "markdown",
   "metadata": {},
   "source": [
    "<h3> 0. Bibliotecas utilizadas </h3>"
   ]
  },
  {
   "cell_type": "markdown",
   "metadata": {},
   "source": [
    "Nesta secção estão listadas as bibliotecas utilizadas no desenvolvimento do código necessário para implementar e analisar os filtros supramencionados.\n",
    "A linha 4 remete ao ficheiro '*utils.py*', que contém todas as funções desenvolvidas para a correta execução do código."
   ]
  },
  {
   "cell_type": "code",
   "execution_count": 1,
   "metadata": {},
   "outputs": [],
   "source": [
    "import numpy as np\n",
    "from math import sqrt, cos, sin, ceil\n",
    "from scipy.linalg import sqrtm\n",
    "import matplotlib.pyplot as plt\n",
    "from utils import *"
   ]
  },
  {
   "cell_type": "markdown",
   "metadata": {},
   "source": [
    "<h3> 1. Parâmetros globais </h3>"
   ]
  },
  {
   "cell_type": "code",
   "execution_count": 2,
   "metadata": {},
   "outputs": [],
   "source": [
    "# Estimation params for EKF\n",
    "Q = np.diag([0.1, 0.1, np.deg2rad(1.0), 1.0]) ** 2\n",
    "R = np.diag([1.0, 1.0]) ** 2\n",
    "\n",
    "# Sim params\n",
    "gps_noise = np.diag([0.5, 0.5]) ** 2\n",
    "input_noise = np.diag([1.0, np.deg2rad(30.0)]) ** 2\n",
    "\n",
    "dt = 0.1\n",
    "sim_time = 50.0\n",
    "\n",
    "#  UKF params\n",
    "ALPHA = 0.001\n",
    "BETA = 2\n",
    "KAPPA = 0"
   ]
  },
  {
   "cell_type": "markdown",
   "metadata": {},
   "source": [
    "<h3> 2. Filtros </h3>"
   ]
  },
  {
   "cell_type": "markdown",
   "metadata": {},
   "source": [
    "<h4> 2.0. Dead Reckoning </h4>"
   ]
  },
  {
   "cell_type": "markdown",
   "metadata": {},
   "source": [
    "Este algoritmo calcula a posição atual usando a posição anterior e incorpora as estimativas de velocidade e direção ao longo do tempo. <br/>\n",
    "Serve como *baseline* de performance para os restantes algoritmos."
   ]
  },
  {
   "cell_type": "markdown",
   "metadata": {},
   "source": [
    "<h4> 2.1. Extended Kalman Filter </h4>"
   ]
  },
  {
   "cell_type": "markdown",
   "metadata": {},
   "source": [
    "O *Extended Kalman Filter* (EKF) é uma versão não-linear do *Kalman Filter*, i.e, funciona de maneira análoga mas aplica-se a sistemas não-lineares. <br/>\n",
    "Este algoritmo converte o sistema não-linear num sistema linear (através de matrizes jacobianas), para, de seguida, obter previsões dos valores (tal como é feito no *Kalman Filter*)."
   ]
  },
  {
   "cell_type": "markdown",
   "metadata": {},
   "source": [
    "Este filtro compreende 4 fases:\n",
    "<ul>\n",
    "    <li>Inicialização</li>\n",
    "    <li>\n",
    "        Previsão <br />\n",
    "        <img src='../images/prediction-ekf.jpg'></img>\n",
    "    </li>\n",
    "    <li>\n",
    "        Medição <br />\n",
    "        <img src='../images/measurement-ekf.jpg'></img>\n",
    "    </li>\n",
    "    <li>Repetir a previsão e medição até terminar a simulação</li>\n",
    "</ul>"
   ]
  },
  {
   "cell_type": "code",
   "execution_count": 3,
   "metadata": {},
   "outputs": [],
   "source": [
    "gps_noise = np.diag([0.5, 0.5]) ** 2\n",
    "def mainEKF():\n",
    "    print('Initiated robot sim!')\n",
    "    \n",
    "    time = 0.\n",
    "\n",
    "    # vetor de estados [x, y, yaw, v]\n",
    "    xpred = np.zeros((4, 1))    \n",
    "    xtrue = np.zeros((4, 1))    \n",
    "    ppred = np.eye(4)\n",
    "\n",
    "    # dead reckoning\n",
    "    xdr = np.zeros((4, 1))\n",
    "\n",
    "    # histórico\n",
    "    hxpred = xpred\n",
    "    hxtrue = xtrue\n",
    "    hxdr = xtrue\n",
    "    hz = np.zeros((1, 2))\n",
    "\n",
    "    fig = plt.figure()\n",
    "    fig.show()\n",
    "    \n",
    "    # for gif\n",
    "    imgs = []\n",
    "\n",
    "    while time <= sim_time:\n",
    "        time += dt\n",
    "\n",
    "        xtrue, z, xdr, ud = observation(xtrue, xdr, u())\n",
    "        xpred, ppred = ekf(xpred, ppred, z, ud)\n",
    "\n",
    "        # guardar no histórico\n",
    "        hxpred, hxtrue, hxdr, hz = save(\n",
    "            hxpred, xpred, hxtrue, xtrue,\n",
    "            hxdr, xdr, hz, z\n",
    "        )\n",
    "\n",
    "    plt.plot(hz[:, 0], hz[:, 1], \".g\")\n",
    "    plt.plot(hxtrue[0, :].flatten(),\n",
    "                hxtrue[1, :].flatten(), \"-b\")\n",
    "    plt.plot(hxdr[0, :].flatten(),\n",
    "                hxdr[1, :].flatten(), \"-k\")\n",
    "    plt.plot(hxpred[0, :].flatten(),\n",
    "                hxpred[1, :].flatten(), \"-r\")\n",
    "    plt.axis(\"equal\")\n",
    "    plt.grid(True)\n"
   ]
  },
  {
   "cell_type": "code",
   "execution_count": 4,
   "metadata": {},
   "outputs": [
    {
     "name": "stdout",
     "output_type": "stream",
     "text": [
      "Initiated robot sim!\n"
     ]
    },
    {
     "name": "stderr",
     "output_type": "stream",
     "text": [
      "C:\\Users\\MANUEL~1\\AppData\\Local\\Temp/ipykernel_5308/1512214513.py:22: UserWarning: Matplotlib is currently using module://matplotlib_inline.backend_inline, which is a non-GUI backend, so cannot show the figure.\n",
      "  fig.show()\n"
     ]
    },
    {
     "data": {
      "image/png": "[encoded data removed]",
      "text/plain": [
       "<Figure size 432x288 with 1 Axes>"
      ]
     },
     "metadata": {
      "needs_background": "light"
     },
     "output_type": "display_data"
    }
   ],
   "source": [
    "from utils import observation\n",
    "\n",
    "mainEKF()"
   ]
  },
  {
   "cell_type": "markdown",
   "metadata": {},
   "source": [
    "<img src='../gifs/ekf-final.gif'></img>"
   ]
  },
  {
   "cell_type": "markdown",
   "metadata": {},
   "source": [
    "<h4> 2.1. Unscented Kalman Filter </h4>"
   ]
  },
  {
   "cell_type": "markdown",
   "metadata": {},
   "source": [
    "À semelhança do EKF, o UKF é um algoritmo para modelos não-lineares, contudo, são geralmente mais precisos, pois são gerados sigma-points (SP) e respetivos pesos, que depois de sofrerem as transformações que o modelo real sofreu, aproximam-se mais da realidade, seguindo também uma distribuição maioritariamente gaussiana.\n",
    "Depois, prevê os valores de maneira semelhante ao Kalman Filter (e, por consequência, ao EKF)."
   ]
  },
  {
   "cell_type": "markdown",
   "metadata": {},
   "source": [
    "Este filtro compreende 4 fases:\n",
    "<ul>\n",
    "    <li>Inicialização</li>\n",
    "    <li>Geração dos SPs</li>\n",
    "    <li>Previsão do estado dos SPs </li>\n",
    "    <li>Previsão do estado do robot com base no estado dos SP</li>\n",
    "    <li>[ completar!! ]</li>\n",
    "</ul>"
   ]
  },
  {
   "cell_type": "code",
   "execution_count": 5,
   "metadata": {},
   "outputs": [],
   "source": [
    "def mainUKF():\n",
    "    print('Robot sim initiated!')\n",
    "    L = 4\n",
    "    xpred = np.zeros((L, 1))\n",
    "    xtrue = np.zeros((L, 1))\n",
    "    ppred = np.eye(L)\n",
    "    wm, wP, gamma = initWeights(L)\n",
    "    xdr = np.zeros((L, 1))\n",
    "\n",
    "    # history \n",
    "    hxpred = xpred\n",
    "    hxtrue = xtrue\n",
    "    hxdr = xdr\n",
    "    hz = np.zeros((2, 1))\n",
    "\n",
    "    time = 0.0\n",
    "\n",
    "    fig = plt.figure()\n",
    "    fig.show()\n",
    "\n",
    "    while time <= sim_time:\n",
    "        time += dt\n",
    "\n",
    "        xtrue, z, xdr, ud = observation2(xtrue, xdr, u())\n",
    "        xpred, ppred = ukf(xpred, ppred, z, ud, wm, wP, gamma)\n",
    "        # hxpred, hxdr, hxtrue, hz = save(hxpred, xpred, hxdr, xdr, hxtrue, xtrue, hz, z)\n",
    "        hxpred = np.hstack((hxpred, xpred))\n",
    "        hxdr = np.hstack((hxdr, xdr))\n",
    "        hxtrue = np.hstack((hxtrue, xtrue))\n",
    "        hz = np.vstack((hz, z))\n",
    "\n",
    "    plt.plot(hz[0, :], hz[1, :], \".g\")\n",
    "    plt.plot(hxtrue[0, :].flatten(), hxtrue[1, :].flatten(), \"-b\")\n",
    "    plt.plot(hxdr[0, :].flatten(), hxdr[1, :].flatten(), \"-k\")\n",
    "    plt.plot(hxpred[0, :].flatten(), hxpred[1, :].flatten(), \"-r\")\n",
    "    plt.axis(\"equal\")\n",
    "    plt.grid(True)"
   ]
  },
  {
   "cell_type": "code",
   "execution_count": 6,
   "metadata": {},
   "outputs": [
    {
     "name": "stdout",
     "output_type": "stream",
     "text": [
      "Robot sim initiated!\n"
     ]
    },
    {
     "name": "stderr",
     "output_type": "stream",
     "text": [
      "C:\\Users\\MANUEL~1\\AppData\\Local\\Temp/ipykernel_5308/2945919717.py:19: UserWarning: Matplotlib is currently using module://matplotlib_inline.backend_inline, which is a non-GUI backend, so cannot show the figure.\n",
      "  fig.show()\n"
     ]
    },
    {
     "data": {
      "image/png": "[encoded data removed]",
      "text/plain": [
       "<Figure size 432x288 with 1 Axes>"
      ]
     },
     "metadata": {
      "needs_background": "light"
     },
     "output_type": "display_data"
    }
   ],
   "source": [
    "mainUKF()"
   ]
  },
  {
   "cell_type": "markdown",
   "metadata": {},
   "source": [
    "<img src='../gifs/ukf-final.gif'></img>"
   ]
  },
  {
   "cell_type": "markdown",
   "metadata": {},
   "source": [
    "<h4> 2.2. Particle Filter </h4>"
   ]
  },
  {
   "cell_type": "markdown",
   "metadata": {},
   "source": [
    "Até aqui, vimos filtros que determinavam a posição do robot através de previsões e comparações com dados reais. O *Particle Filter* (PF) segue uma abordagem diferente:\n",
    "<ul>\n",
    "    <li>\n",
    "        Usando um número qualquer de pontos de referência, gera-se uma 'nuvem' de possíveis posições arbitrárias que o robot pode assumir (partículas). Nesta fase, assume-se que todas as partículas têm igual probabilidade de representar a posição do robot.\n",
    "    </li>\n",
    "    <li>\n",
    "        Para cada partícula, calcula-se a probabilidade da mesma corresponder à posição real (i.e medida com o sensor GPS) do robot. No nosso caso, isto é feito através do cálculo da distância euclidiana da partícula ao robot - quanto maior a distância, menor a probabilidade de corresponder à posição do robot. Neste processo, é também utilizada a distância aos pontos de referência pré-definidos.\n",
    "    </li>\n",
    "    <li>\n",
    "        Atualizam-se os pesos das partículas conforme as probabilidades calculadas no passo anterior.\n",
    "    </li>\n",
    "    <li>\n",
    "        Calcula-se a nova distribuição de probabilidades associada às partículas com maior peso (i.e as que têm maior probabilidade de corresponder à real posição do robot).\n",
    "    </li>\n",
    "    <li>\n",
    "        Atualizar a 'nuvem' de partículas, segundo a distribuição de probabilidades calculada em 4. Este passo garante que há mais partículas nos sítios onde é mais provável o robot estar posicionado.\n",
    "    </li>\n",
    "    <li>\n",
    "        'Mover' as partículas de acordo com o vetor u (velocidade, taxa de viragem) + ruído de medição.\n",
    "    </li>\n",
    "    <li>\n",
    "        Este processo repete-se até ao fim do tempo definido.\n",
    "    </li>\n",
    "</ul>\n",
    "\n",
    "Ao longo da simulação, espera-se que a nuvem de partículas vá convergindo para a posição real do robot."
   ]
  },
  {
   "cell_type": "markdown",
   "metadata": {},
   "source": [
    "O código-fonte para a implementação deste filtro foi baseado <a href='https://github.com/AtsushiSakai/PythonRobotics/blob/af2061a1e784a6779bdc08976a43157ddae17884/Localization/particle_filter/particle_filter.py#L105'>neste repositório</a>"
   ]
  },
  {
   "cell_type": "markdown",
   "metadata": {},
   "source": [
    "<img src='../images/pf-final.png'></img>"
   ]
  },
  {
   "cell_type": "markdown",
   "metadata": {},
   "source": [
    "<img src='../gifs/pf-final.gif'></img>"
   ]
  },
  {
   "cell_type": "markdown",
   "metadata": {},
   "source": [
    "Com o objetivo de descobrir um pouco mais acerca deste algoritmo, coloquei três questões acerca dos seus parâmetros iniciais:\n",
    "<ul>\n",
    "    <li>\n",
    "        Como varia o erro em função do número de pontos de referência?\n",
    "    </li>\n",
    "    <li>\n",
    "        Como varia o erro em função do número de partículas?\n",
    "    </li>\n",
    "    <li>\n",
    "        Qual é o efeito do aumento destes parâmetros no tempo de execução do algoritmo? Qual é zona ótima no trade-off entre tempo e precisão?\n",
    "    </li>\n",
    "</ul>\n",
    "\n",
    "Para as questões acima, hipotetizei que, quanto maior o número de pontos de referência ou partículas, menor o erro. No entanto, previ que este aumento afetasse negativamente o tempo de execução."
   ]
  }
 ],
 "metadata": {
  "interpreter": {
   "hash": "2db524e06e9f5f4ffedc911c917cb75e12dbc923643829bf417064a77eb14d37"
  },
  "kernelspec": {
   "display_name": "Python 3.8.2 32-bit",
   "language": "python",
   "name": "python3"
  },
  "language_info": {
   "codemirror_mode": {
    "name": "ipython",
    "version": 3
   },
   "file_extension": ".py",
   "mimetype": "text/x-python",
   "name": "python",
   "nbconvert_exporter": "python",
   "pygments_lexer": "ipython3",
   "version": "3.8.2"
  },
  "orig_nbformat": 4
 },
 "nbformat": 4,
 "nbformat_minor": 2
}
