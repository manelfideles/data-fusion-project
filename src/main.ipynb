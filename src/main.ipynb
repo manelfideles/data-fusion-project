{
 "cells": [
  {
   "cell_type": "markdown",
   "metadata": {},
   "source": [
    "<h1> [FIAD] Projeto I </h1>"
   ]
  },
  {
   "cell_type": "markdown",
   "metadata": {},
   "source": [
    "Este projeto pretende aplicar métodos de fusão de dados para a localização de um robot, considerando\n",
    "que é representado por um modelo não-linear e que possui um sensor de velocidade, um giroscópio \n",
    "e um sensor de GNSS (Global Navigation Satellite System)."
   ]
  },
  {
   "cell_type": "markdown",
   "metadata": {},
   "source": [
    "São analisados e comparados 3 filtros diferentes:\n",
    "    <ul>\n",
    "        <li> Extended Kalman Filter\n",
    "        <li> Unscented Kalman Filter\n",
    "        <li> Particle Filter\n",
    "    </ul>"
   ]
  },
  {
   "cell_type": "markdown",
   "metadata": {},
   "source": [
    "<h3> 0. Bibliotecas utilizadas </h3>"
   ]
  },
  {
   "cell_type": "markdown",
   "metadata": {},
   "source": [
    "Nesta secção estão listadas as bibliotecas utilizadas no desenvolvimento do código necessário para implementar e analisar os filtros supramencionados.\n",
    "A linha 4 remete ao ficheiro 'utils.py', que contém todas as funções desenvolvidas que ajudam na execução do código."
   ]
  },
  {
   "cell_type": "code",
   "execution_count": 11,
   "metadata": {},
   "outputs": [],
   "source": [
    "import numpy as np\n",
    "from math import sqrt, cos, sin, ceil\n",
    "from scipy.linalg import sqrtm\n",
    "import matplotlib.pyplot as plt\n",
    "from utils import *"
   ]
  },
  {
   "cell_type": "markdown",
   "metadata": {},
   "source": [
    "<h3> 1. Parâmetros globais </h3>"
   ]
  },
  {
   "cell_type": "code",
   "execution_count": 12,
   "metadata": {},
   "outputs": [],
   "source": [
    "# Estimation params for EKF\n",
    "Q = np.diag([0.1, 0.1, np.deg2rad(1.0), 1.0]) ** 2\n",
    "R = np.diag([1.0, 1.0]) ** 2\n",
    "\n",
    "# Sim params\n",
    "gps_noise = np.diag([0.5, 0.5]) ** 2\n",
    "input_noise = np.diag([1.0, np.deg2rad(30.0)]) ** 2\n",
    "\n",
    "dt = 0.1\n",
    "sim_time = 50.0\n",
    "\n",
    "#  UKF params\n",
    "ALPHA = 0.001\n",
    "BETA = 2\n",
    "KAPPA = 0"
   ]
  },
  {
   "cell_type": "markdown",
   "metadata": {},
   "source": [
    "<h3> 2. Filtros </h3>"
   ]
  },
  {
   "cell_type": "markdown",
   "metadata": {},
   "source": [
    "<h4> 2.0. Dead Reckoning </h4>"
   ]
  },
  {
   "cell_type": "markdown",
   "metadata": {},
   "source": [
    "Este algoritmo calcula a posição atual usando a posição anterior e incorpora as estimativas de velocidade e direção ao longo do tempo."
   ]
  },
  {
   "cell_type": "markdown",
   "metadata": {},
   "source": [
    "<h4> 2.1. Extended Kalman Filter </h4>"
   ]
  },
  {
   "cell_type": "markdown",
   "metadata": {},
   "source": [
    "O Extended Kalman Filter (EKF) é uma versão não-linear do Kalman Filter, i.e, funciona de maneira análoga ao Kalman Filter mas aplica-se a sistemas não-lineares. <br/>\n",
    "Este algoritmo converte o sistema não-linear num sistema linear (através de matrizes jacobianas), para, de seguida, obter previsões dos valores (tal como é feito no Kalman Filter)."
   ]
  },
  {
   "cell_type": "markdown",
   "metadata": {},
   "source": [
    "Este filtro compreende 4 fases:\n",
    "<ul>\n",
    "    <li>Inicialização</li>\n",
    "    <li>\n",
    "        Previsão <br />\n",
    "        <img src='../images/prediction-ekf.jpg'></img>\n",
    "    </li>\n",
    "    <li>\n",
    "        Medição <br />\n",
    "        <img src='../images/measurement-ekf.jpg'></img>\n",
    "    </li>\n",
    "    <li>Repetir a previsão e medição até terminar a simulação</li>\n",
    "</ul>\n",
    "\n"
   ]
  },
  {
   "cell_type": "code",
   "execution_count": 13,
   "metadata": {},
   "outputs": [],
   "source": [
    "def main():\n",
    "    print('Initiated robot sim!')\n",
    "    \n",
    "    time = 0.\n",
    "\n",
    "    # vetor de estados [x, y, yaw, v]\n",
    "    xpred = np.zeros((4, 1))    \n",
    "    xtrue = np.zeros((4, 1))    \n",
    "    ppred = np.eye(4)\n",
    "\n",
    "    # dead reckoning\n",
    "    xdr = np.zeros((4, 1))\n",
    "\n",
    "    # histórico\n",
    "    hxpred = xpred\n",
    "    hxtrue = xtrue\n",
    "    hxdr = xtrue\n",
    "    hz = np.zeros((1, 2))\n",
    "\n",
    "    fig = plt.figure()\n",
    "    fig.show()\n",
    "    \n",
    "    # for gif\n",
    "    imgs = []\n",
    "\n",
    "    while time <= sim_time:\n",
    "        time += dt\n",
    "\n",
    "        xtrue, z, xdr, ud = observation(xtrue, xdr, u())\n",
    "        xpred, ppred = ekf(xpred, ppred, z, ud)\n",
    "\n",
    "        # guardar no histórico\n",
    "        hxpred, hxtrue, hxdr, hz = save(\n",
    "            hxpred, xpred, hxtrue, xtrue,\n",
    "            hxdr, xdr, hz, z\n",
    "        )\n",
    "\n",
    "    plt.plot(hz[:, 0], hz[:, 1], \".g\")\n",
    "    plt.plot(hxtrue[0, :].flatten(),\n",
    "                hxtrue[1, :].flatten(), \"-b\")\n",
    "    plt.plot(hxdr[0, :].flatten(),\n",
    "                hxdr[1, :].flatten(), \"-k\")\n",
    "    plt.plot(hxpred[0, :].flatten(),\n",
    "                hxpred[1, :].flatten(), \"-r\")\n",
    "    plt.axis(\"equal\")\n",
    "    plt.grid(True)\n",
    "\n",
    "    # gif\n",
    "    # filename = f'{time * 1/dt}.jpeg'\n",
    "    # imgs.append(f'./frames/{filename}')\n",
    "    # plt.savefig(filename)\n"
   ]
  },
  {
   "cell_type": "code",
   "execution_count": 14,
   "metadata": {},
   "outputs": [
    {
     "name": "stdout",
     "output_type": "stream",
     "text": [
      "Initiated robot sim!\n"
     ]
    },
    {
     "name": "stderr",
     "output_type": "stream",
     "text": [
      "C:\\Users\\MANUEL~1\\AppData\\Local\\Temp/ipykernel_19956/3372032095.py:21: UserWarning: Matplotlib is currently using module://matplotlib_inline.backend_inline, which is a non-GUI backend, so cannot show the figure.\n",
      "  fig.show()\n"
     ]
    },
    {
     "data": {
      "image/png": "[encoded data removed]",
      "text/plain": [
       "<Figure size 432x288 with 1 Axes>"
      ]
     },
     "metadata": {
      "needs_background": "light"
     },
     "output_type": "display_data"
    }
   ],
   "source": [
    "main()"
   ]
  }
 ],
 "metadata": {
  "interpreter": {
   "hash": "2db524e06e9f5f4ffedc911c917cb75e12dbc923643829bf417064a77eb14d37"
  },
  "kernelspec": {
   "display_name": "Python 3.8.2 32-bit",
   "language": "python",
   "name": "python3"
  },
  "language_info": {
   "codemirror_mode": {
    "name": "ipython",
    "version": 3
   },
   "file_extension": ".py",
   "mimetype": "text/x-python",
   "name": "python",
   "nbconvert_exporter": "python",
   "pygments_lexer": "ipython3",
   "version": "3.8.2"
  },
  "orig_nbformat": 4
 },
 "nbformat": 4,
 "nbformat_minor": 2
}
