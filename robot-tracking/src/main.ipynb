{
 "cells": [
  {
   "cell_type": "markdown",
   "metadata": {},
   "source": [
    "<h1> [FIAD] Projeto I </h1>"
   ]
  },
  {
   "cell_type": "markdown",
   "metadata": {},
   "source": [
    "**Manuel Tolda Martins Carrilho Fideles** <br />\n",
    "**2018282990**"
   ]
  },
  {
   "cell_type": "markdown",
   "metadata": {},
   "source": [
    "Este projeto pretende aplicar métodos de fusão de dados para a localização de um robot, considerando\n",
    "que é representado por um modelo não-linear e que possui um sensor de velocidade, um giroscópio \n",
    "e um sensor de GNSS (*Global Navigation Satellite System*)."
   ]
  },
  {
   "cell_type": "markdown",
   "metadata": {},
   "source": [
    "São analisados e comparados 3 filtros diferentes:\n",
    "    <ul>\n",
    "        <li> Extended Kalman Filter\n",
    "        <li> Unscented Kalman Filter\n",
    "        <li> Particle Filter\n",
    "    </ul>"
   ]
  },
  {
   "cell_type": "markdown",
   "metadata": {},
   "source": [
    "<h3> 0. Bibliotecas utilizadas </h3>"
   ]
  },
  {
   "cell_type": "markdown",
   "metadata": {},
   "source": [
    "Nesta secção estão listadas as bibliotecas utilizadas no desenvolvimento do código necessário para implementar e analisar os filtros supramencionados.\n",
    "A linha 4 remete ao ficheiro '*utils.py*', que contém todas as funções desenvolvidas para a correta execução do código."
   ]
  },
  {
   "cell_type": "code",
   "execution_count": 44,
   "metadata": {},
   "outputs": [],
   "source": [
    "import numpy as np\n",
    "from math import sqrt, cos, sin, ceil\n",
    "from scipy.linalg import sqrtm\n",
    "import matplotlib.pyplot as plt\n",
    "from sklearn.metrics import mean_squared_error as mse, r2_score as r2\n",
    "from utils import *\n",
    "import pandas as pd"
   ]
  },
  {
   "cell_type": "markdown",
   "metadata": {},
   "source": [
    "<h3> 1. Parâmetros globais </h3>"
   ]
  },
  {
   "cell_type": "code",
   "execution_count": 30,
   "metadata": {},
   "outputs": [],
   "source": [
    "# Estimation params for EKF\n",
    "Q = np.diag([0.1, 0.1, np.deg2rad(1.0), 1.0]) ** 2\n",
    "R = np.diag([1.0, 1.0]) ** 2\n",
    "\n",
    "# Sim params\n",
    "gps_noise = np.diag([0.5, 0.5]) ** 2\n",
    "input_noise = np.diag([1.0, np.deg2rad(30.0)]) ** 2\n",
    "\n",
    "dt = 0.1\n",
    "sim_time = 50.0\n",
    "\n",
    "#  UKF params\n",
    "ALPHA = 0.001\n",
    "BETA = 2\n",
    "KAPPA = 0"
   ]
  },
  {
   "cell_type": "markdown",
   "metadata": {},
   "source": [
    "<h3> 2. Filtros </h3>"
   ]
  },
  {
   "cell_type": "markdown",
   "metadata": {},
   "source": [
    "<h4> 2.0. Dead Reckoning </h4>"
   ]
  },
  {
   "cell_type": "markdown",
   "metadata": {},
   "source": [
    "Este algoritmo calcula a posição atual usando a posição anterior e incorpora as estimativas de velocidade e direção ao longo do tempo. <br/>\n",
    "Serve como *baseline* de performance para os restantes algoritmos."
   ]
  },
  {
   "cell_type": "markdown",
   "metadata": {},
   "source": [
    "<h4> 2.1. Extended Kalman Filter </h4>"
   ]
  },
  {
   "cell_type": "markdown",
   "metadata": {},
   "source": [
    "O *Extended Kalman Filter* (EKF) é uma versão não-linear do *Kalman Filter*, i.e, funciona de maneira análoga mas aplica-se a sistemas não-lineares. <br/>\n",
    "Este algoritmo converte o sistema não-linear num sistema linear (através de matrizes jacobianas), para, de seguida, obter previsões dos valores (tal como é feito no *Kalman Filter*)."
   ]
  },
  {
   "cell_type": "markdown",
   "metadata": {},
   "source": [
    "Este filtro compreende 4 fases:\n",
    "<ul>\n",
    "    <li>Inicialização</li>\n",
    "    <li>\n",
    "        Previsão <br />\n",
    "        <img src='../images/prediction-ekf.jpg'></img>\n",
    "    </li>\n",
    "    <li>\n",
    "        Medição <br />\n",
    "        <img src='../images/measurement-ekf.jpg'></img>\n",
    "    </li>\n",
    "    <li>Repetir a previsão e medição até terminar a simulação</li>\n",
    "</ul>"
   ]
  },
  {
   "cell_type": "code",
   "execution_count": 31,
   "metadata": {},
   "outputs": [],
   "source": [
    "gps_noise = np.diag([0.5, 0.5]) ** 2\n",
    "\n",
    "def mainEKF(show_plot=True):\n",
    "    # print('Initiated robot sim!')\n",
    "    \n",
    "    time = 0.\n",
    "\n",
    "    # vetor de estados [x, y, yaw, v]\n",
    "    xpred = np.zeros((4, 1))    \n",
    "    xtrue = np.zeros((4, 1))    \n",
    "    ppred = np.eye(4)\n",
    "\n",
    "    # dead reckoning\n",
    "    xdr = np.zeros((4, 1))\n",
    "\n",
    "    # histórico\n",
    "    hxpred = xpred\n",
    "    hxtrue = xtrue\n",
    "    hxdr = xtrue\n",
    "    hz = np.zeros((1, 2))\n",
    "\n",
    "    if show_plot:\n",
    "        fig = plt.figure()\n",
    "        fig.show()\n",
    "    \n",
    "    # for gif\n",
    "    imgs = []\n",
    "\n",
    "    while time <= sim_time:\n",
    "        time += dt\n",
    "\n",
    "        xtrue, z, xdr, ud = observation(xtrue, xdr, u())\n",
    "        xpred, ppred = ekf(xpred, ppred, z, ud)\n",
    "\n",
    "        # guardar no histórico\n",
    "        hxpred, hxtrue, hxdr, hz = save(\n",
    "            hxpred, xpred, hxtrue, xtrue,\n",
    "            hxdr, xdr, hz, z\n",
    "        )\n",
    "\n",
    "    if show_plot:\n",
    "        plt.plot(hz[:, 0], hz[:, 1], \".g\")\n",
    "        plt.plot(hxtrue[0, :].flatten(),\n",
    "                    hxtrue[1, :].flatten(), \"-b\")\n",
    "        plt.plot(hxdr[0, :].flatten(),\n",
    "                    hxdr[1, :].flatten(), \"-k\")\n",
    "        plt.plot(hxpred[0, :].flatten(),\n",
    "                    hxpred[1, :].flatten(), \"-r\")\n",
    "        plt.axis(\"equal\")\n",
    "        plt.grid(True)\n",
    "\n",
    "    return hxpred, hxtrue, hxdr\n",
    "   "
   ]
  },
  {
   "cell_type": "code",
   "execution_count": 32,
   "metadata": {},
   "outputs": [
    {
     "name": "stderr",
     "output_type": "stream",
     "text": [
      "C:\\Users\\MANUEL~1\\AppData\\Local\\Temp/ipykernel_3644/3253354965.py:24: UserWarning: Matplotlib is currently using module://matplotlib_inline.backend_inline, which is a non-GUI backend, so cannot show the figure.\n",
      "  fig.show()\n"
     ]
    },
    {
     "data": {
      "text/plain": [
       "(array([[ 0.        ,  0.03061495, -0.05033076, ..., -9.56932366,\n",
       "         -9.54611146, -9.56376627],\n",
       "        [ 0.        ,  0.04462574,  0.05728869, ...,  7.19592905,\n",
       "          7.22386784,  7.01557732],\n",
       "        [ 0.        ,  0.0331594 ,  0.01921535, ...,  4.85260693,\n",
       "          4.85908575,  4.89179567],\n",
       "        [ 0.        , -0.08614861, -0.06293648, ...,  0.87227405,\n",
       "          0.68042959,  0.94574479]]),\n",
       " array([[ 0.00000000e+00,  1.00000000e-01,  1.99995000e-01, ...,\n",
       "         -9.60719466e+00, -9.58075184e+00, -9.55334595e+00],\n",
       "        [ 0.00000000e+00,  0.00000000e+00,  9.99983333e-04, ...,\n",
       "          7.40387649e+00,  7.30743595e+00,  7.21126466e+00],\n",
       "        [ 0.00000000e+00,  1.00000000e-02,  2.00000000e-02, ...,\n",
       "          4.98000000e+00,  4.99000000e+00,  5.00000000e+00],\n",
       "        [ 0.00000000e+00,  1.00000000e+00,  1.00000000e+00, ...,\n",
       "          1.00000000e+00,  1.00000000e+00,  1.00000000e+00]]),\n",
       " array([[ 0.00000000e+00, -9.01787337e-03, -1.17489417e-02, ...,\n",
       "          1.83183068e+00,  1.82841549e+00,  1.82619045e+00],\n",
       "        [ 0.00000000e+00,  0.00000000e+00, -9.16500249e-05, ...,\n",
       "          9.03344306e+00,  8.93994709e+00,  8.87504511e+00],\n",
       "        [ 0.00000000e+00,  3.35457167e-02,  1.98119486e-02, ...,\n",
       "          4.67587755e+00,  4.67811924e+00,  4.71842056e+00],\n",
       "        [ 0.00000000e+00, -9.01787337e-02, -2.73260569e-02, ...,\n",
       "          6.42402041e-01,  9.35583149e-01,  6.49401158e-01]]))"
      ]
     },
     "execution_count": 32,
     "metadata": {},
     "output_type": "execute_result"
    },
    {
     "data": {
      "image/png": "[encoded data removed]",
      "text/plain": [
       "<Figure size 432x288 with 1 Axes>"
      ]
     },
     "metadata": {
      "needs_background": "light"
     },
     "output_type": "display_data"
    }
   ],
   "source": [
    "from utils import observation\n",
    "\n",
    "mainEKF()"
   ]
  },
  {
   "cell_type": "markdown",
   "metadata": {},
   "source": [
    "<img src='../gifs/ekf-final.gif'></img>"
   ]
  },
  {
   "cell_type": "markdown",
   "metadata": {},
   "source": [
    "<h4> 2.1. Unscented Kalman Filter </h4>"
   ]
  },
  {
   "cell_type": "markdown",
   "metadata": {},
   "source": [
    "À semelhança do EKF, o UKF é um algoritmo para modelos não-lineares, contudo, são geralmente mais precisos, pois são gerados sigma-points (SP) e respetivos pesos, que depois de sofrerem as transformações que o modelo real sofreu, aproximam-se mais da realidade, seguindo também uma distribuição maioritariamente gaussiana.\n",
    "Depois, prevê os valores de maneira semelhante ao Kalman Filter (e, por consequência, ao EKF)."
   ]
  },
  {
   "cell_type": "markdown",
   "metadata": {},
   "source": [
    "Este filtro compreende 4 fases:\n",
    "<ul>\n",
    "    <li>Inicialização</li>\n",
    "    <li>Geração dos SPs</li>\n",
    "    <li>Previsão do estado dos SPs </li>\n",
    "    <li>Previsão do estado do robot com base no estado dos SP</li>\n",
    "    <li>[ completar!! ]</li>\n",
    "</ul>"
   ]
  },
  {
   "cell_type": "code",
   "execution_count": 33,
   "metadata": {},
   "outputs": [],
   "source": [
    "def mainUKF(show_plot=True):\n",
    "    # print('Robot sim initiated!')\n",
    "    L = 4\n",
    "    xpred = np.zeros((L, 1))\n",
    "    xtrue = np.zeros((L, 1))\n",
    "    ppred = np.eye(L)\n",
    "    wm, wP, gamma = initWeights(L)\n",
    "    xdr = np.zeros((L, 1))\n",
    "\n",
    "    # history \n",
    "    hxpred = xpred\n",
    "    hxtrue = xtrue\n",
    "    hxdr = xdr\n",
    "    hz = np.zeros((2, 1))\n",
    "\n",
    "    time = 0.0\n",
    "\n",
    "    if show_plot:\n",
    "        fig = plt.figure()\n",
    "        fig.show()\n",
    "\n",
    "    while time <= sim_time:\n",
    "        time += dt\n",
    "\n",
    "        xtrue, z, xdr, ud = observation2(xtrue, xdr, u())\n",
    "        xpred, ppred = ukf(xpred, ppred, z, ud, wm, wP, gamma)\n",
    "        # hxpred, hxdr, hxtrue, hz = save(hxpred, xpred, hxdr, xdr, hxtrue, xtrue, hz, z)\n",
    "        hxpred = np.hstack((hxpred, xpred))\n",
    "        hxdr = np.hstack((hxdr, xdr))\n",
    "        hxtrue = np.hstack((hxtrue, xtrue))\n",
    "        hz = np.vstack((hz, z))\n",
    "\n",
    "    if show_plot:\n",
    "        plt.plot(hz[0, :], hz[1, :], \".g\")\n",
    "        plt.plot(hxtrue[0, :].flatten(), hxtrue[1, :].flatten(), \"-b\")\n",
    "        plt.plot(hxdr[0, :].flatten(), hxdr[1, :].flatten(), \"-k\")\n",
    "        plt.plot(hxpred[0, :].flatten(), hxpred[1, :].flatten(), \"-r\")\n",
    "        plt.axis(\"equal\")\n",
    "        plt.grid(True)\n",
    "\n",
    "    return hxpred, hxtrue, hxdr"
   ]
  },
  {
   "cell_type": "code",
   "execution_count": 34,
   "metadata": {},
   "outputs": [
    {
     "name": "stderr",
     "output_type": "stream",
     "text": [
      "C:\\Users\\MANUEL~1\\AppData\\Local\\Temp/ipykernel_3644/2516241863.py:20: UserWarning: Matplotlib is currently using module://matplotlib_inline.backend_inline, which is a non-GUI backend, so cannot show the figure.\n",
      "  fig.show()\n"
     ]
    },
    {
     "data": {
      "text/plain": [
       "(array([[ 0.        ,  0.24041646,  0.09138621, ..., -9.67168033,\n",
       "         -9.63237064, -9.63050017],\n",
       "        [ 0.        , -0.12232774, -0.08821927, ...,  7.09825507,\n",
       "          7.15441716,  7.09740789],\n",
       "        [ 0.        ,  0.02622233,  0.02162869, ...,  4.77700187,\n",
       "          4.76788872,  4.7651303 ],\n",
       "        [ 0.        , -0.25575275, -0.67798157, ...,  2.3904499 ,\n",
       "         -0.40407164,  0.96460826]]),\n",
       " array([[ 0.00000000e+00,  1.00000000e-01,  1.99995000e-01, ...,\n",
       "         -9.60719466e+00, -9.58075184e+00, -9.55334595e+00],\n",
       "        [ 0.00000000e+00,  0.00000000e+00,  9.99983333e-04, ...,\n",
       "          7.40387649e+00,  7.30743595e+00,  7.21126466e+00],\n",
       "        [ 0.00000000e+00,  1.00000000e-02,  2.00000000e-02, ...,\n",
       "          4.98000000e+00,  4.99000000e+00,  5.00000000e+00],\n",
       "        [ 0.00000000e+00,  1.00000000e+00,  1.00000000e+00, ...,\n",
       "          1.00000000e+00,  1.00000000e+00,  1.00000000e+00]]),\n",
       " array([[ 0.00000000e+00, -2.55752749e-02, -9.33501242e-02, ...,\n",
       "         -1.31562310e+01, -1.31588400e+01, -1.31534892e+01],\n",
       "        [ 0.00000000e+00,  0.00000000e+00, -1.77762167e-03, ...,\n",
       "          6.65721728e+00,  6.69754013e+00,  6.60122783e+00],\n",
       "        [ 0.00000000e+00,  2.62223263e-02,  2.16286907e-02, ...,\n",
       "          4.77700188e+00,  4.76788872e+00,  4.76513030e+00],\n",
       "        [ 0.00000000e+00, -2.55752749e-01, -6.77981573e-01, ...,\n",
       "          2.39044990e+00, -4.04071638e-01,  9.64608261e-01]]))"
      ]
     },
     "execution_count": 34,
     "metadata": {},
     "output_type": "execute_result"
    },
    {
     "data": {
      "image/png": "[encoded data removed]",
      "text/plain": [
       "<Figure size 432x288 with 1 Axes>"
      ]
     },
     "metadata": {
      "needs_background": "light"
     },
     "output_type": "display_data"
    }
   ],
   "source": [
    "mainUKF()"
   ]
  },
  {
   "cell_type": "markdown",
   "metadata": {},
   "source": [
    "<img src='../gifs/ukf-final.gif'></img>"
   ]
  },
  {
   "cell_type": "markdown",
   "metadata": {},
   "source": [
    "<h4> 2.2. Particle Filter </h4>"
   ]
  },
  {
   "cell_type": "markdown",
   "metadata": {},
   "source": [
    "Até aqui, vimos filtros que determinavam a posição do robot através de previsões e comparações com dados reais. O *Particle Filter* (PF) segue uma abordagem diferente:\n",
    "<ul>\n",
    "    <li>\n",
    "        Usando um número qualquer de pontos de referência, gera-se uma 'nuvem' de possíveis posições arbitrárias que o robot pode assumir (partículas). Nesta fase, assume-se que todas as partículas têm igual probabilidade de representar a posição do robot.\n",
    "    </li>\n",
    "    <li>\n",
    "        Para cada partícula, calcula-se a probabilidade da mesma corresponder à posição real (i.e medida com o sensor GPS) do robot. No nosso caso, isto é feito através do cálculo da distância euclidiana da partícula ao robot - quanto maior a distância, menor a probabilidade de corresponder à posição do robot. Neste processo, é também utilizada a distância aos pontos de referência pré-definidos.\n",
    "    </li>\n",
    "    <li>\n",
    "        Atualizam-se os pesos das partículas conforme as probabilidades calculadas no passo anterior.\n",
    "    </li>\n",
    "    <li>\n",
    "        Calcula-se a nova distribuição de probabilidades associada às partículas com maior peso (i.e as que têm maior probabilidade de corresponder à real posição do robot).\n",
    "    </li>\n",
    "    <li>\n",
    "        Atualizar a 'nuvem' de partículas, segundo a distribuição de probabilidades calculada em 4. Este passo garante que há mais partículas nos sítios onde é mais provável o robot estar posicionado.\n",
    "    </li>\n",
    "    <li>\n",
    "        'Mover' as partículas de acordo com o vetor u (velocidade, taxa de viragem) + ruído de medição.\n",
    "    </li>\n",
    "    <li>\n",
    "        Este processo repete-se até ao fim do tempo definido.\n",
    "    </li>\n",
    "</ul>\n",
    "\n",
    "Ao longo da simulação, espera-se que a nuvem de partículas vá convergindo para a posição real do robot."
   ]
  },
  {
   "cell_type": "markdown",
   "metadata": {},
   "source": [
    "O código-fonte para a implementação deste filtro foi baseado <a href='https://github.com/AtsushiSakai/PythonRobotics/blob/af2061a1e784a6779bdc08976a43157ddae17884/Localization/particle_filter/particle_filter.py#L105'>neste repositório</a>"
   ]
  },
  {
   "cell_type": "markdown",
   "metadata": {},
   "source": [
    "<img src='../images/pf-final.png'></img>"
   ]
  },
  {
   "cell_type": "markdown",
   "metadata": {},
   "source": [
    "<img src='../gifs/pf-final.gif'></img>"
   ]
  },
  {
   "cell_type": "markdown",
   "metadata": {},
   "source": [
    "Com o objetivo de descobrir um pouco mais acerca deste algoritmo, coloquei três questões acerca dos seus parâmetros iniciais:\n",
    "<ul>\n",
    "    <li>\n",
    "        Como varia o erro em função do número de partículas?\n",
    "    </li>\n",
    "    <li>\n",
    "        Qual é o efeito do aumento deste parâmetro no tempo de execução do algoritmo?\n",
    "    </li>\n",
    "</ul>\n",
    "\n",
    "Para as questões acima, hipotetizei que, quanto maior o número de pontos de referência, menor o erro. Para além disso, previ que este aumento afetasse negativamente o tempo de execução."
   ]
  },
  {
   "cell_type": "markdown",
   "metadata": {},
   "source": [
    "<img src='../images/pf-time-vs-particle-count.png'></img>"
   ]
  },
  {
   "cell_type": "markdown",
   "metadata": {},
   "source": [
    "<img src='../images/pf-metrics-vs-particle-count.png'></img>"
   ]
  },
  {
   "cell_type": "markdown",
   "metadata": {},
   "source": [
    "## Comparação dos algoritmos"
   ]
  },
  {
   "cell_type": "markdown",
   "metadata": {},
   "source": [
    "Para comparar os algoritmos apresentados, escolhi o mean squared error (*MSE*), o root mean squared error (*RMSE*), e o *R2*.\n",
    "Quanto ao *MSE* e *RMSE*, quanto mais próximos de 0 os seus valores forem, mais próximo da realidade é o algoritmo.\n",
    "<br />\n",
    "Para obter estas métricas, testei 25 vezes cada algoritmo, para gerar vários valores e poder calcular as médias e desvios-padrão da performance de cada algoritmo. <br/>\n",
    "Os valores calculados estão descritos abaixo."
   ]
  },
  {
   "cell_type": "code",
   "execution_count": 42,
   "metadata": {},
   "outputs": [
    {
     "name": "stdout",
     "output_type": "stream",
     "text": [
      "Calculating 25 EKF...\n",
      "Done!\n"
     ]
    }
   ],
   "source": [
    "# EKF\n",
    " \n",
    "ekf_mse_array = []\n",
    "ekf_rmse_array = []\n",
    "ekf_r2_array = []\n",
    "\n",
    "print('Calculating 25 EKF...')\n",
    "for i in range(25):\n",
    "    ekf_hxpred, ekf_hxtrue, ekf_hxdr = mainEKF(show_plot=False)\n",
    "    ekf_mse_array += [\n",
    "        (\n",
    "            mse(ekf_hxtrue.T[:, :2], ekf_hxdr.T[:, :2]),\n",
    "            mse(ekf_hxtrue.T[:, :2], ekf_hxpred.T[:, :2])\n",
    "        )\n",
    "    ]\n",
    "    ekf_rmse_array += [\n",
    "        (\n",
    "            sqrt(mse(ekf_hxtrue.T[:, :2], ekf_hxdr.T[:, :2])),\n",
    "            sqrt(mse(ekf_hxtrue.T[:, :2], ekf_hxpred.T[:, :2]))\n",
    "        )\n",
    "    ]\n",
    "    ekf_r2_array += [\n",
    "        (\n",
    "            r2(ekf_hxtrue.T[:, :2], ekf_hxdr.T[:, :2]),\n",
    "            r2(ekf_hxtrue.T[:, :2], ekf_hxpred.T[:, :2])\n",
    "        )\n",
    "    ]\n",
    "print('Done!')"
   ]
  },
  {
   "cell_type": "code",
   "execution_count": 43,
   "metadata": {},
   "outputs": [
    {
     "name": "stdout",
     "output_type": "stream",
     "text": [
      "Calculating 25 UKF...\n",
      "Done!\n"
     ]
    }
   ],
   "source": [
    "# UKF\n",
    "\n",
    "ukf_mse_array = []\n",
    "ukf_rmse_array = []\n",
    "ukf_r2_array = []\n",
    "\n",
    "print('Calculating 25 UKF...')\n",
    "for i in range(25):\n",
    "    ukf_hxpred, ukf_hxtrue, ukf_hxdr = mainEKF(show_plot=False)\n",
    "    ukf_mse_array += [\n",
    "        (\n",
    "            mse(ukf_hxtrue.T[:, :2], ukf_hxdr.T[:, :2]),\n",
    "            mse(ukf_hxtrue.T[:, :2], ukf_hxpred.T[:, :2])\n",
    "        )\n",
    "    ]\n",
    "    ukf_rmse_array += [\n",
    "        (\n",
    "            sqrt(mse(ukf_hxtrue.T[:, :2], ukf_hxdr.T[:, :2])),\n",
    "            sqrt(mse(ukf_hxtrue.T[:, :2], ukf_hxpred.T[:, :2]))\n",
    "        )\n",
    "    ]\n",
    "    ukf_r2_array += [\n",
    "        (\n",
    "            r2(ukf_hxtrue.T[:, :2], ukf_hxdr.T[:, :2]),\n",
    "            r2(ukf_hxtrue.T[:, :2], ukf_hxpred.T[:, :2])\n",
    "        )\n",
    "    ]\n",
    "print('Done!')"
   ]
  },
  {
   "cell_type": "code",
   "execution_count": 52,
   "metadata": {},
   "outputs": [],
   "source": [
    "ekf_mse_df = pd.DataFrame(ekf_mse_array).rename(columns={0: 'DR', 1:'EKF'})\n",
    "ekf_rmse_df = pd.DataFrame(ekf_rmse_array).rename(columns={0: 'DR', 1:'EKF'})\n",
    "ekf_r2_df = pd.DataFrame(ekf_r2_array).rename(columns={0: 'DR', 1:'EKF'})"
   ]
  },
  {
   "cell_type": "code",
   "execution_count": 97,
   "metadata": {},
   "outputs": [],
   "source": [
    "# Metrics dataframes\n",
    "# MSE\n",
    "ukf_mse_df = pd.DataFrame(ukf_mse_array).rename(columns={0: 'DR', 1:'UKF'})\n",
    "ekf_mse_df['UKF'] = ukf_mse_df['UKF']\n",
    "mse_df = ekf_mse_df.describe().iloc[1:3, :]\n",
    "mse_df = mse_df.T.rename(columns={'mean':'mse_mean', 'std':'mse_std'})\n",
    "\n",
    "# RMSE\n",
    "ukf_rmse_df = pd.DataFrame(ukf_rmse_array).rename(columns={0: 'DR', 1:'UKF'})\n",
    "ekf_rmse_df['UKF'] = ukf_rmse_df['UKF']\n",
    "rmse_df = ekf_rmse_df.describe().iloc[1:3, :]\n",
    "rmse_df = rmse_df.T.rename(columns={'mean':'rmse_mean', 'std':'rmse_std'})\n",
    "\n",
    "# R2\n",
    "ukf_r2_df = pd.DataFrame(ukf_r2_array).rename(columns={0: 'DR', 1:'UKF'})\n",
    "ekf_r2_df['UKF'] = ukf_r2_df['UKF']\n",
    "r2_df = ekf_r2_df.describe().iloc[1:3, :]\n",
    "r2_df = r2_df.T.rename(columns={'mean':'r2_mean', 'std':'r2_std'})"
   ]
  },
  {
   "cell_type": "code",
   "execution_count": 112,
   "metadata": {},
   "outputs": [
    {
     "name": "stderr",
     "output_type": "stream",
     "text": [
      "C:\\Users\\MANUEL~1\\AppData\\Local\\Temp/ipykernel_3644/311530990.py:2: FutureWarning: The frame.append method is deprecated and will be removed from pandas in a future version. Use pandas.concat instead.\n",
      "  metrics = metrics.append(pd.DataFrame([[0.013390, 0.001474, 0.115547, 0.006346, 0.999714, 0.000032]], columns=metrics.columns, index=['PF']))\n"
     ]
    }
   ],
   "source": [
    "metrics = pd.concat([mse_df, rmse_df, r2_df], axis=1)\n",
    "metrics = metrics.append(pd.DataFrame([[0.013390, 0.001474, 0.115547, 0.006346, 0.999714, 0.000032]], columns=metrics.columns, index=['PF']))"
   ]
  },
  {
   "cell_type": "code",
   "execution_count": 113,
   "metadata": {},
   "outputs": [
    {
     "data": {
      "text/html": [
       "<div>\n",
       "<style scoped>\n",
       "    .dataframe tbody tr th:only-of-type {\n",
       "        vertical-align: middle;\n",
       "    }\n",
       "\n",
       "    .dataframe tbody tr th {\n",
       "        vertical-align: top;\n",
       "    }\n",
       "\n",
       "    .dataframe thead th {\n",
       "        text-align: right;\n",
       "    }\n",
       "</style>\n",
       "<table border=\"1\" class=\"dataframe\">\n",
       "  <thead>\n",
       "    <tr style=\"text-align: right;\">\n",
       "      <th></th>\n",
       "      <th>mse_mean</th>\n",
       "      <th>mse_std</th>\n",
       "      <th>rmse_mean</th>\n",
       "      <th>rmse_std</th>\n",
       "      <th>r2_mean</th>\n",
       "      <th>r2_std</th>\n",
       "    </tr>\n",
       "  </thead>\n",
       "  <tbody>\n",
       "    <tr>\n",
       "      <th>DR</th>\n",
       "      <td>20.647242</td>\n",
       "      <td>19.275087</td>\n",
       "      <td>4.054986</td>\n",
       "      <td>2.092728</td>\n",
       "      <td>0.554838</td>\n",
       "      <td>0.419756</td>\n",
       "    </tr>\n",
       "    <tr>\n",
       "      <th>EKF</th>\n",
       "      <td>0.020470</td>\n",
       "      <td>0.003227</td>\n",
       "      <td>0.142657</td>\n",
       "      <td>0.011129</td>\n",
       "      <td>0.999565</td>\n",
       "      <td>0.000067</td>\n",
       "    </tr>\n",
       "    <tr>\n",
       "      <th>UKF</th>\n",
       "      <td>0.018861</td>\n",
       "      <td>0.004196</td>\n",
       "      <td>0.136530</td>\n",
       "      <td>0.015174</td>\n",
       "      <td>0.999598</td>\n",
       "      <td>0.000091</td>\n",
       "    </tr>\n",
       "    <tr>\n",
       "      <th>PF</th>\n",
       "      <td>0.013390</td>\n",
       "      <td>0.001474</td>\n",
       "      <td>0.115547</td>\n",
       "      <td>0.006346</td>\n",
       "      <td>0.999714</td>\n",
       "      <td>0.000032</td>\n",
       "    </tr>\n",
       "  </tbody>\n",
       "</table>\n",
       "</div>"
      ],
      "text/plain": [
       "      mse_mean    mse_std  rmse_mean  rmse_std   r2_mean    r2_std\n",
       "DR   20.647242  19.275087   4.054986  2.092728  0.554838  0.419756\n",
       "EKF   0.020470   0.003227   0.142657  0.011129  0.999565  0.000067\n",
       "UKF   0.018861   0.004196   0.136530  0.015174  0.999598  0.000091\n",
       "PF    0.013390   0.001474   0.115547  0.006346  0.999714  0.000032"
      ]
     },
     "execution_count": 113,
     "metadata": {},
     "output_type": "execute_result"
    }
   ],
   "source": [
    "metrics"
   ]
  },
  {
   "cell_type": "markdown",
   "metadata": {},
   "source": [
    "<h4> Conclusões: </h4>\n",
    "<ul>\n",
    "    <li>O Particle Filter apresenta os valores médios mais baixos para o MSE e RMSE.</li>\n",
    "    <li>O EKF, o UKF e Particle Filter têm resultados bastante próximos da realidade, descritos pelo R2.</li>\n",
    "    <li>Como seria de esperar, o algoritmo com pior performance é o Dead Reckoning, visto que usa o movimento relativo para calcular a posição do robot.</li>\n",
    "    <li>Os resultados mostram que o EKF, UKF e PF apresentam grande estabilidade na sua performance (valores baixos de desvio-padrão). Dentro destes 3 algoritmos, o PF apresenta a maior estabilidade.</li>\n",
    "</ul>"
   ]
  }
 ],
 "metadata": {
  "interpreter": {
   "hash": "2db524e06e9f5f4ffedc911c917cb75e12dbc923643829bf417064a77eb14d37"
  },
  "kernelspec": {
   "display_name": "Python 3.8.2 32-bit",
   "language": "python",
   "name": "python3"
  },
  "language_info": {
   "codemirror_mode": {
    "name": "ipython",
    "version": 3
   },
   "file_extension": ".py",
   "mimetype": "text/x-python",
   "name": "python",
   "nbconvert_exporter": "python",
   "pygments_lexer": "ipython3",
   "version": "3.8.2"
  },
  "orig_nbformat": 4
 },
 "nbformat": 4,
 "nbformat_minor": 2
}
