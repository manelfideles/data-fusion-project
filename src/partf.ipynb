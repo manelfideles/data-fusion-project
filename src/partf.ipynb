{
 "cells": [
  {
   "cell_type": "code",
   "execution_count": 761,
   "metadata": {},
   "outputs": [],
   "source": [
    "import numpy as np\n",
    "from math import cos, sin\n",
    "from scipy import stats\n",
    "import matplotlib.pyplot as plt"
   ]
  },
  {
   "cell_type": "code",
   "execution_count": 762,
   "metadata": {},
   "outputs": [],
   "source": [
    "# Particle Filter\n",
    "# 1 - Criar uma 'nuvem' de possíveis\n",
    "# posições do robot, segundo uma distribuição\n",
    "# gaussiana uniforme.\n",
    "\n",
    "# 2 - Para cada partícula, calcular a\n",
    "# probabilidade da mesma corresponder à\n",
    "# posição real do robot.\n",
    "\n",
    "# 3 - Atualizar os pesos das partículas\n",
    "# conforme as probabilidades\n",
    "# calculadas em 2.\n",
    "\n",
    "# 4 - Calcular nova distribuição\n",
    "# de probabilidades associada\n",
    "# às partículas com maior peso\n",
    "# (i.e que têm maior probabilidade\n",
    "# de corresponder à real posição do robot)\n",
    "\n",
    "# 5 - Criar uma nova 'nuvem' de possíveis\n",
    "# posições do robot, segundo a distribuição\n",
    "# de probabilidades atualizada calculada em 4.\n",
    "# Este processo vai colocar mais partículas\n",
    "# nos sítios mais prováveis e menos partículas\n",
    "# nos sítios menos prováveis.\n",
    "\n",
    "# 6 - Mover todas as partículas\n",
    "# (i.e posições possíveis)\n",
    "# de acordo com o vetor u + ruído (que indica\n",
    "# a velocidade e taxa de viragem)\n",
    "\n",
    "# Repetir passos 2 a 6\n"
   ]
  },
  {
   "cell_type": "code",
   "execution_count": 763,
   "metadata": {},
   "outputs": [],
   "source": [
    "# Globals\n",
    "\n",
    "# [variance on x-axis, variance on y-axis, yaw variance, velocity variance]\n",
    "Q = np.diag([0.1, 0.1, np.deg2rad(1.0), 1.0]) ** 2\n",
    "# observation x, y position covariance\n",
    "R = np.diag([1.0, 1.0]) ** 2\n",
    "\n",
    "# initial robot_pos\n",
    "initial_pos = np.array([0., 0.])\n",
    "\n",
    "#  Sim params\n",
    "gps_noise = np.diag([0.5, 0.5])**2\n",
    "input_noise = np.diag([1.0, np.deg2rad(30.0)])**2\n",
    "\n",
    "dt = 0.1\n",
    "sim_time = 50.0"
   ]
  },
  {
   "cell_type": "code",
   "execution_count": 764,
   "metadata": {},
   "outputs": [],
   "source": [
    "def u(v=1.0, yaw=0.1):\n",
    "    \"\"\"\n",
    "    Devolve o vetor de entrada\n",
    "    num dado instante.\n",
    "    \"\"\"\n",
    "    return np.array([[v, yaw]]).T"
   ]
  },
  {
   "cell_type": "code",
   "execution_count": 765,
   "metadata": {},
   "outputs": [],
   "source": [
    "def mm(x, u, dt=0.1):\n",
    "    \"\"\"\n",
    "    Devolve o valor de x[t+1]\n",
    "    de acordo com o modelo dinâmico\n",
    "    definido na ficha 4:\n",
    "    xt = F * xt + B * ut\n",
    "    \"\"\"\n",
    "    F = np.identity(4, dtype=float)\n",
    "    F[3, 3] = 0\n",
    "    B = np.array([[dt * cos(x[2, 0]), 0],\n",
    "                  [dt * sin(x[2, 0]), 0],\n",
    "                  [0.0, dt],\n",
    "                  [1.0, 0.0]])\n",
    "\n",
    "    return F.dot(x) + B.dot(u)"
   ]
  },
  {
   "cell_type": "code",
   "execution_count": 766,
   "metadata": {},
   "outputs": [],
   "source": [
    "def om(x):\n",
    "    \"\"\"\n",
    "    Devolve o modelo de observação\n",
    "    de acordo com o enunciado da ficha 4:\n",
    "    zt = H * xt\n",
    "    \"\"\"\n",
    "    return np.identity(4)[0:2].dot(x)"
   ]
  },
  {
   "cell_type": "code",
   "execution_count": 767,
   "metadata": {},
   "outputs": [],
   "source": [
    "def observation(x, xdr, u):\n",
    "    x = mm(x, u)\n",
    "\n",
    "    # add noise to gps x-y\n",
    "    z = om(x) + gps_noise.dot(np.random.randn(2, 1))\n",
    "\n",
    "    # add noise to input\n",
    "    ud = u + input_noise.dot(np.random.randn(2, 1))\n",
    "\n",
    "    xdr = mm(xdr, ud)\n",
    "\n",
    "    return x, z, xdr, ud"
   ]
  },
  {
   "cell_type": "code",
   "execution_count": 768,
   "metadata": {},
   "outputs": [],
   "source": [
    "def initParticles(n, xrange, yrange, yawrange, refs=False):\n",
    "    '''\n",
    "    Cria uma 'nuvem' de possíveis\n",
    "    posições (x, y, yaw) do robot, segundo uma\n",
    "    distribuição uniforme.\n",
    "    Esta função também é utilizada para gerar\n",
    "    pontos de referência (i.e features de um\n",
    "    possível mapa).\n",
    "    '''\n",
    "    if refs:\n",
    "        return np.concatenate([\n",
    "        [np.random.uniform(xrange[0], xrange[1], size=n)],\n",
    "        [np.random.uniform(yrange[0], yrange[1], size=n)],\n",
    "    ], 0).T\n",
    "\n",
    "    return np.concatenate([\n",
    "        [np.random.uniform(xrange[0], xrange[1], size=n)],\n",
    "        [np.random.uniform(yrange[0], yrange[1], size=n)],\n",
    "        [np.random.uniform(yawrange[0], yawrange[1], size=n) % (2 * np.pi)],\n",
    "    ], 0).T"
   ]
  },
  {
   "cell_type": "code",
   "execution_count": 769,
   "metadata": {},
   "outputs": [],
   "source": [
    "def getWeights(ref_pts, particles, actualRefPtDist, weights, gps_error=0.5):\n",
    "    '''\n",
    "    Calcula o peso de cada partícula\n",
    "    conforme a distância à posição real.\n",
    "    Quanto menor for a distância, maior\n",
    "    o peso da partícula.\n",
    "    '''\n",
    "    for i, refpt in enumerate(ref_pts):\n",
    "        # distância euclidiana entre um ref e cada particula\n",
    "        d = np.linalg.norm(particles[:, 0:2] - refpt, axis=1)\n",
    "\n",
    "        # ajustar pesos\n",
    "        weights *= stats.norm(d, gps_error).pdf(actualRefPtDist[i])\n",
    "\n",
    "    weights += 1.e-300\n",
    "    return weights / sum(weights)"
   ]
  },
  {
   "cell_type": "code",
   "execution_count": 770,
   "metadata": {},
   "outputs": [],
   "source": [
    "def getProbDistribution(particles, weights):\n",
    "    '''\n",
    "    Calcula os parâmetros da distribuição\n",
    "    de probabilidades associada\n",
    "    às partículas com maior peso\n",
    "    (i.e que têm maior probabilidade\n",
    "    de corresponder à real posição do robot)\n",
    "    '''\n",
    "    mean = np.average(particles[:, 0:2], axis=0, weights=weights), \n",
    "    variance = np.average(particles[:, 0:2] - mean, axis=0, weights=weights)\n",
    "    return mean, variance"
   ]
  },
  {
   "cell_type": "code",
   "execution_count": 771,
   "metadata": {},
   "outputs": [],
   "source": [
    "def resample(particles, weights):\n",
    "    '''\n",
    "    Cria uma 'nuvem' atualizada de possíveis\n",
    "    posições do robot, segundo a distribuição\n",
    "    de probabilidades atualizada calculada no\n",
    "    método getProbDist().\n",
    "    Este processo vai colocar mais partículas\n",
    "    nos sítios mais prováveis e menos partículas\n",
    "    nos sítios menos prováveis (i.e converge\n",
    "    para a posição real).\n",
    "    '''\n",
    "    pass"
   ]
  },
  {
   "cell_type": "code",
   "execution_count": 772,
   "metadata": {},
   "outputs": [],
   "source": [
    "def moveParticles(particles, u, dt=1):\n",
    "    '''\n",
    "    'Move' todas as partículas\n",
    "    (i.e posições possíveis)\n",
    "    de acordo com o vetor u\n",
    "    (que indica a velocidade e\n",
    "    taxa de viragem) + ruído.\n",
    "    '''\n",
    "    d = (u[1] * dt) + (np.random.randn(len(particles)) * 0.05)\n",
    "    # update x\n",
    "    particles[:, 0] += np.cos(particles[:, 2]) * d\n",
    "    # update y\n",
    "    particles[:, 1] += np.sin(particles[:, 2]) * d\n",
    "    # update yaw\n",
    "    particles[:, 2] = (particles[:, 2] + u[0] + (np.random.randn(len(particles))) * 0.1) % (2 * np.pi)\n",
    "\n",
    "    return particles"
   ]
  },
  {
   "cell_type": "code",
   "execution_count": 773,
   "metadata": {},
   "outputs": [],
   "source": [
    "def pf(args):\n",
    "    ''' description '''\n",
    "    \n",
    "    pass"
   ]
  },
  {
   "cell_type": "code",
   "execution_count": 774,
   "metadata": {},
   "outputs": [],
   "source": [
    "def main():\n",
    "\n",
    "    print('Robot sim initiated!')\n",
    "\n",
    "    debug = False\n",
    "\n",
    "    robot_pos = np.array([0., 0.])\n",
    "    # número de partículas\n",
    "    n = 1000\n",
    "    weights = np.ones(n) / n\n",
    "    particles = initParticles(\n",
    "        n,\n",
    "        (0, 40),\n",
    "        (0, 40),\n",
    "\n",
    "        # Temos que yawrange [deg] = (0, 360);\n",
    "        # Conversão de 360 [deg] para [rad]\n",
    "        # x [rad] * 180/pi = 360 [deg] <=>\n",
    "        # <=> x [rad] = 360 [deg] * pi/180\n",
    "        # <=> x [rad] = 2 * pi\n",
    "        (0, 2 * np.pi),\n",
    "    )\n",
    "\n",
    "    refPoints = np.array([[0, 0],[100, 100],[0, 200],[-100, 100]])\n",
    "\n",
    "    L = 4\n",
    "    xpred = np.zeros((L, 1))\n",
    "    xtrue = np.zeros((L, 1))\n",
    "    ppred = np.eye(L)\n",
    "    xdr = np.zeros((L, 1))\n",
    "    \n",
    "    # history\n",
    "    hxpred = xpred\n",
    "    hxtrue = xtrue\n",
    "    hxdr = xdr\n",
    "    hxmean = np.array(xtrue[:2])\n",
    "    hz = np.zeros((2, 1))\n",
    "\n",
    "    time = 0.0\n",
    "\n",
    "    fig = plt.figure(figsize=(10, 10))\n",
    "    plt.xlim([-60, 60])\n",
    "    plt.ylim([-60, 60])\n",
    "\n",
    "    while time <= sim_time:\n",
    "        time += 0.1\n",
    "        \n",
    "        # xy-true, xy-medido pelo gps, xy-relativo, noisy input\n",
    "        xtrue, robot_pos, xdr, ud = observation(xtrue, xdr, u())\n",
    "\n",
    "        hxdr = np.hstack((hxdr, xdr))\n",
    "        hxtrue = np.hstack((hxtrue, xtrue))\n",
    "        hz = np.vstack((hz, robot_pos))\n",
    "\n",
    "        # atualizar particulas com o movimento efetuado\n",
    "        moveParticles(particles, u())\n",
    "\n",
    "        # calcular distâncias entre\n",
    "        # posição medida do robot e\n",
    "        # pts de referência ...\n",
    "        actualRefPtsDist = np.linalg.norm(refPoints - robot_pos.T, axis=1)\n",
    "\n",
    "        if debug:\n",
    "            print('Particles [0:5, 0:2]:', particles[0:5, 0:2])\n",
    "            print('Robot Position: ', robot_pos.T)\n",
    "            print('Reference Points: ', refPoints)\n",
    "            print('Distance from Reference Points to Robot Position: ', actualRefPtsDist)\n",
    "\n",
    "        # plt.scatter(refPoints[:, 0], refPoints[:, 1], color='brown', marker=\"D\", label=\"Landmarks\")\n",
    "        # plt.plot(robot_pos[0], robot_pos[1], '.g')\n",
    "        # plt.plot(particles[0:20, 0], particles[0:20, 1], '.k')\n",
    "        \n",
    "        # e atribuir pesos a cada particula\n",
    "        # conforme a sua distância a cada\n",
    "        # refPoint e a distância desse refPoint\n",
    "        # à posição verdadeira medida pelo gps\n",
    "        getWeights(refPoints, particles, actualRefPtsDist, weights)\n",
    "\n",
    "        # calcular a distribuição de probabilidades\n",
    "        # atualizada com os novos pesos\n",
    "        mean, _ = getProbDistribution(particles, weights)\n",
    "\n",
    "        # print('mean: ', mean)\n",
    "        # print('hxmean: ', hxmean)\n",
    "        hxmean = np.hstack((hxmean, np.array(mean).T))\n",
    "\n",
    "        # plt.plot(hxmean[0, :].flatten(), hxmean[1, :].flatten(), \"-y\", label='Particle Filter')\n",
    "        # plt.show()\n",
    "\n",
    "    plt.scatter(refPoints[0, :], refPoints[1, :], color='brown', marker=\"D\", label=\"Landmarks\")\n",
    "    plt.plot(hz[0, :], hz[1, :], \".g\")\n",
    "    plt.plot(hxtrue[0, :].flatten(), hxtrue[1, :].flatten(), \"-b\")\n",
    "    plt.plot(hxdr[0, :].flatten(), hxdr[1, :].flatten(), \"-k\")\n",
    "    plt.plot(hxpred[0, :].flatten(), hxpred[1, :].flatten(), \"-r\", '')\n",
    "    plt.plot(hxmean[0, :].flatten(), hxmean[1, :].flatten(), \"-y\", label='Particle Filter')\n",
    "    plt.axis(\"equal\")\n",
    "    plt.grid(True)"
   ]
  },
  {
   "cell_type": "code",
   "execution_count": 775,
   "metadata": {},
   "outputs": [
    {
     "name": "stdout",
     "output_type": "stream",
     "text": [
      "Robot sim initiated!\n"
     ]
    },
    {
     "data": {
      "image/png": "[encoded data removed]",
      "text/plain": [
       "<Figure size 720x720 with 1 Axes>"
      ]
     },
     "metadata": {
      "needs_background": "light"
     },
     "output_type": "display_data"
    }
   ],
   "source": [
    "main()"
   ]
  }
 ],
 "metadata": {
  "interpreter": {
   "hash": "2db524e06e9f5f4ffedc911c917cb75e12dbc923643829bf417064a77eb14d37"
  },
  "kernelspec": {
   "display_name": "Python 3.8.2 32-bit",
   "language": "python",
   "name": "python3"
  },
  "language_info": {
   "codemirror_mode": {
    "name": "ipython",
    "version": 3
   },
   "file_extension": ".py",
   "mimetype": "text/x-python",
   "name": "python",
   "nbconvert_exporter": "python",
   "pygments_lexer": "ipython3",
   "version": "3.8.2"
  },
  "orig_nbformat": 4
 },
 "nbformat": 4,
 "nbformat_minor": 2
}
