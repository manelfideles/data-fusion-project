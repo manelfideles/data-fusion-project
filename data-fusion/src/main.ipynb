{
 "cells": [
  {
   "cell_type": "code",
   "execution_count": 1,
   "metadata": {},
   "outputs": [],
   "source": [
    "import pandas as pd"
   ]
  },
  {
   "cell_type": "markdown",
   "metadata": {},
   "source": [
    "### 0. Configuration"
   ]
  },
  {
   "cell_type": "markdown",
   "metadata": {},
   "source": [
    "Feature glossary: <br />\n",
    "<ul>\n",
    "<li>gender -> {0, 1} = {female, male}</li>\n",
    "<li>rf (risk factors) -> {0, 1} = {no, yes}</li>\n",
    "<li>sbp -> systolic blood pressure</li>\n",
    "<li>hr{1, 2} -> heart rate {1, 2}</li>\n",
    "<li>st -> st deviation -> {0, 1} = {no, yes}</li>\n",
    "<li>crt -> creatinine</li>\n",
    "<li>kil -> kilip class -> {1, 2, 3, 4}</li>\n",
    "<li>target -> cardiovascular event ? {0, 1} = {no, yes}</li>\n",
    "</ul>"
   ]
  },
  {
   "cell_type": "code",
   "execution_count": 2,
   "metadata": {},
   "outputs": [],
   "source": [
    "datasetsFolder = '../datasets'\n",
    "datasetName = f'{datasetsFolder}/DATA.txt'\n",
    "datasetColumns = [\n",
    "    'gender', 'age', 'rf',\n",
    "    'sbp', 'hr1', 'st',\n",
    "    'hr2', 'crt', 'kil',\n",
    "    'target'\n",
    "]\n",
    "heartRateStd = {'hr1': 2, 'hr2': 0.5}"
   ]
  },
  {
   "cell_type": "markdown",
   "metadata": {},
   "source": [
    "### 1. Importing and pre-processing the data"
   ]
  },
  {
   "cell_type": "markdown",
   "metadata": {},
   "source": [
    "#### Importing the dataset"
   ]
  },
  {
   "cell_type": "code",
   "execution_count": 3,
   "metadata": {},
   "outputs": [],
   "source": [
    "dataset = pd.read_csv(datasetName, sep='   ', header=None, engine='python')\n",
    "dataset.columns = datasetColumns"
   ]
  },
  {
   "cell_type": "markdown",
   "metadata": {},
   "source": [
    "#### Pre-processing"
   ]
  },
  {
   "cell_type": "code",
   "execution_count": 4,
   "metadata": {},
   "outputs": [],
   "source": [
    "def convertToDataType(dataset, cols, datatype):\n",
    "    for col in cols:\n",
    "        dataset[col] = dataset[col].astype(datatype)\n",
    "    return dataset"
   ]
  },
  {
   "cell_type": "code",
   "execution_count": 5,
   "metadata": {},
   "outputs": [],
   "source": [
    "dataset = convertToDataType(\n",
    "    dataset, \n",
    "    ['gender', 'age', 'rf', 'st', 'kil', 'target'],\n",
    "    int\n",
    ")"
   ]
  },
  {
   "cell_type": "code",
   "execution_count": 6,
   "metadata": {},
   "outputs": [],
   "source": [
    "# Check if clinical guidelines are\n",
    "# true:\n",
    "# if (crt >= 1.3 && st=1) OR (kil >= 2)\n",
    "# then target should be 1\n",
    "# otherwise is 0\n",
    "# dataset[dataset['kil'] >= 2]['target'].sum()"
   ]
  },
  {
   "cell_type": "markdown",
   "metadata": {},
   "source": [
    "Get HR estimation based on hr1 and hr2"
   ]
  },
  {
   "cell_type": "markdown",
   "metadata": {},
   "source": [
    "<img src='../images/two-sensor-data-fusion-1.png'></img>\n",
    "<img src='../images/two-sensor-data-fusion-2.png'></img>"
   ]
  },
  {
   "cell_type": "code",
   "execution_count": 7,
   "metadata": {},
   "outputs": [],
   "source": [
    "def getEstimation(dataset, std):\n",
    "    std1Squared = std['hr1'] ** 2\n",
    "    std2Squared = std['hr2'] ** 2\n",
    "    k1 = std2Squared / (std1Squared + std2Squared)\n",
    "    _k1 = std1Squared / (std1Squared + std2Squared)\n",
    "    return k1 * dataset['hr1'] + _k1 * dataset['hr2']\n"
   ]
  },
  {
   "cell_type": "code",
   "execution_count": 8,
   "metadata": {},
   "outputs": [],
   "source": [
    "dataset['hr'] = getEstimation(dataset, heartRateStd)"
   ]
  }
 ],
 "metadata": {
  "interpreter": {
   "hash": "9650cb4e16cdd4a8e8e2d128bf38d875813998db22a3c986335f89e0cb4d7bb2"
  },
  "kernelspec": {
   "display_name": "Python 3.8.2 32-bit",
   "language": "python",
   "name": "python3"
  },
  "language_info": {
   "codemirror_mode": {
    "name": "ipython",
    "version": 3
   },
   "file_extension": ".py",
   "mimetype": "text/x-python",
   "name": "python",
   "nbconvert_exporter": "python",
   "pygments_lexer": "ipython3",
   "version": "3.8.2"
  },
  "orig_nbformat": 4
 },
 "nbformat": 4,
 "nbformat_minor": 2
}
